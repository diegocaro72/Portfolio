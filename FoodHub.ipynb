{
  "cells": [
    {
      "cell_type": "markdown",
      "metadata": {
        "id": "view-in-github",
        "colab_type": "text"
      },
      "source": [
        "<a href=\"https://colab.research.google.com/github/diegocaro72/Portfolio/blob/Projects/FoodHub.ipynb\" target=\"_parent\"><img src=\"https://colab.research.google.com/assets/colab-badge.svg\" alt=\"Open In Colab\"/></a>"
      ]
    },
    {
      "cell_type": "markdown",
      "metadata": {
        "id": "HnAlaR5Y2rc8"
      },
      "source": [
        "# Project Python Foundations: FoodHub Data Analysis\n",
        "\n",
      ]
    },
    {
      "cell_type": "markdown",
      "metadata": {
        "id": "N0e9ilAx2rc_"
      },
      "source": [
        "### Context\n",
        "\n",
        "The number of restaurants in New York is increasing day by day. Lots of students and busy professionals rely on those restaurants due to their hectic lifestyles. Online food delivery service is a great option for them. It provides them with good food from their favorite restaurants. A food aggregator company FoodHub offers access to multiple restaurants through a single smartphone app.\n",
        "\n",
        "The app allows the restaurants to receive a direct online order from a customer. The app assigns a delivery person from the company to pick up the order after it is confirmed by the restaurant. The delivery person then uses the map to reach the restaurant and waits for the food package. Once the food package is handed over to the delivery person, he/she confirms the pick-up in the app and travels to the customer's location to deliver the food. The delivery person confirms the drop-off in the app after delivering the food package to the customer. The customer can rate the order in the app. The food aggregator earns money by collecting a fixed margin of the delivery order from the restaurants.\n",
        "\n",
        "### Objective\n",
        "\n",
        "The food aggregator company has stored the data of the different orders made by the registered customers in their online portal. They want to analyze the data to get a fair idea about the demand of different restaurants which will help them in enhancing their customer experience. Suppose you are a Data Scientist at Foodhub and the Data Science team has shared some of the key questions that need to be answered. Perform the data analysis to find answers to these questions that will help the company to improve the business.\n",
        "\n",
        "### Data Description\n",
        "\n",
        "The data contains the different data related to a food order. The detailed data dictionary is given below.\n",
        "\n",
        "### Data Dictionary\n",
        "\n",
        "* order_id: Unique ID of the order\n",
        "* customer_id: ID of the customer who ordered the food\n",
        "* restaurant_name: Name of the restaurant\n",
        "* cuisine_type: Cuisine ordered by the customer\n",
        "* cost_of_the_order: Cost of the order\n",
        "* day_of_the_week: Indicates whether the order is placed on a weekday or weekend (The weekday is from Monday to Friday and the weekend is Saturday and Sunday)\n",
        "* rating: Rating given by the customer out of 5\n",
        "* food_preparation_time: Time (in minutes) taken by the restaurant to prepare the food. This is calculated by taking the difference between the timestamps of the restaurant's order confirmation and the delivery person's pick-up confirmation.\n",
        "* delivery_time: Time (in minutes) taken by the delivery person to deliver the food package. This is calculated by taking the difference between the timestamps of the delivery person's pick-up confirmation and drop-off information"
      ]
    },
    {
      "cell_type": "markdown",
      "metadata": {
        "id": "Ruz2EiJ32rdB"
      },
      "source": [
        "### **Please read the instructions carefully before starting the project.**\n",
        "This is a commented Jupyter IPython Notebook file in which all the instructions and tasks to be performed are mentioned. Read along carefully to complete the project.\n",
        "* Blanks '_______' are provided in the notebook that\n",
        "needs to be filled with an appropriate code to get the correct result. Please replace the blank with the right code snippet. With every '_______' blank, there is a comment that briefly describes what needs to be filled in the blank space.\n",
        "* Identify the task to be performed correctly, and only then proceed to write the required code.\n",
        "* Fill the code wherever asked by the commented lines like \"# write your code here\" or \"# complete the code\". Running incomplete code may throw an error.\n",
        "* Please run the codes in a sequential manner from the beginning to avoid any unnecessary errors.\n",
        "* You can the results/observations derived from the analysis here and use them to create your final presentation.\n"
      ]
    },
    {
      "cell_type": "markdown",
      "metadata": {
        "id": "enOodKS42rdB"
      },
      "source": [
        "### Let us start by importing the required libraries"
      ]
    },
    {
      "cell_type": "code",
      "source": [
        "from google.colab import drive\n",
        "drive.mount('/content/drive')"
      ],
      "metadata": {
        "colab": {
          "base_uri": "https://localhost:8080/"
        },
        "id": "aC4koM202Yjq",
        "outputId": "278b0f67-b2a3-4b76-e661-3862df68a1d8"
      },
      "execution_count": null,
      "outputs": [
        {
          "output_type": "stream",
          "name": "stdout",
          "text": [
            "Drive already mounted at /content/drive; to attempt to forcibly remount, call drive.mount(\"/content/drive\", force_remount=True).\n"
          ]
        }
      ]
    },
    {
      "cell_type": "code",
      "execution_count": null,
      "metadata": {
        "id": "p7FpluTK2rdC"
      },
      "outputs": [],
      "source": [
        "# Import libraries for data manipulation\n",
        "import numpy as np\n",
        "import pandas as pd\n",
        "\n",
        "# Import libraries for data visualization\n",
        "import matplotlib.pyplot as plt\n",
        "import seaborn as sns"
      ]
    },
    {
      "cell_type": "markdown",
      "metadata": {
        "id": "LHxIYWXP2rdD"
      },
      "source": [
        "### Understanding the structure of the data"
      ]
    },
    {
      "cell_type": "code",
      "execution_count": null,
      "metadata": {
        "id": "bTSFV3nfkOqH"
      },
      "outputs": [],
      "source": [
        "# uncomment and run the following lines for Google Colab\n",
        "# from google.colab import drive\n",
        "# drive.mount('/content/drive')"
      ]
    },
    {
      "cell_type": "code",
      "execution_count": null,
      "metadata": {
        "id": "nwlzFr-_2rdD",
        "scrolled": true,
        "colab": {
          "base_uri": "https://localhost:8080/",
          "height": 324
        },
        "outputId": "57989989-fb8c-4159-8bed-03da3c37bbea"
      },
      "outputs": [
        {
          "output_type": "execute_result",
          "data": {
            "text/plain": [
              "   order_id  customer_id            restaurant_name cuisine_type  \\\n",
              "0   1477147       337525                    Hangawi       Korean   \n",
              "1   1477685       358141  Blue Ribbon Sushi Izakaya     Japanese   \n",
              "2   1477070        66393                Cafe Habana      Mexican   \n",
              "3   1477334       106968  Blue Ribbon Fried Chicken     American   \n",
              "4   1478249        76942           Dirty Bird to Go     American   \n",
              "\n",
              "   cost_of_the_order day_of_the_week     rating  food_preparation_time  \\\n",
              "0              30.75         Weekend  Not given                     25   \n",
              "1              12.08         Weekend  Not given                     25   \n",
              "2              12.23         Weekday          5                     23   \n",
              "3              29.20         Weekend          3                     25   \n",
              "4              11.59         Weekday          4                     25   \n",
              "\n",
              "   delivery_time  \n",
              "0             20  \n",
              "1             23  \n",
              "2             28  \n",
              "3             15  \n",
              "4             24  "
            ],
            "text/html": [
              "\n",
              "  <div id=\"df-48da3473-923d-4efd-92d8-c1c4ea75ceb8\">\n",
              "    <div class=\"colab-df-container\">\n",
              "      <div>\n",
              "<style scoped>\n",
              "    .dataframe tbody tr th:only-of-type {\n",
              "        vertical-align: middle;\n",
              "    }\n",
              "\n",
              "    .dataframe tbody tr th {\n",
              "        vertical-align: top;\n",
              "    }\n",
              "\n",
              "    .dataframe thead th {\n",
              "        text-align: right;\n",
              "    }\n",
              "</style>\n",
              "<table border=\"1\" class=\"dataframe\">\n",
              "  <thead>\n",
              "    <tr style=\"text-align: right;\">\n",
              "      <th></th>\n",
              "      <th>order_id</th>\n",
              "      <th>customer_id</th>\n",
              "      <th>restaurant_name</th>\n",
              "      <th>cuisine_type</th>\n",
              "      <th>cost_of_the_order</th>\n",
              "      <th>day_of_the_week</th>\n",
              "      <th>rating</th>\n",
              "      <th>food_preparation_time</th>\n",
              "      <th>delivery_time</th>\n",
              "    </tr>\n",
              "  </thead>\n",
              "  <tbody>\n",
              "    <tr>\n",
              "      <th>0</th>\n",
              "      <td>1477147</td>\n",
              "      <td>337525</td>\n",
              "      <td>Hangawi</td>\n",
              "      <td>Korean</td>\n",
              "      <td>30.75</td>\n",
              "      <td>Weekend</td>\n",
              "      <td>Not given</td>\n",
              "      <td>25</td>\n",
              "      <td>20</td>\n",
              "    </tr>\n",
              "    <tr>\n",
              "      <th>1</th>\n",
              "      <td>1477685</td>\n",
              "      <td>358141</td>\n",
              "      <td>Blue Ribbon Sushi Izakaya</td>\n",
              "      <td>Japanese</td>\n",
              "      <td>12.08</td>\n",
              "      <td>Weekend</td>\n",
              "      <td>Not given</td>\n",
              "      <td>25</td>\n",
              "      <td>23</td>\n",
              "    </tr>\n",
              "    <tr>\n",
              "      <th>2</th>\n",
              "      <td>1477070</td>\n",
              "      <td>66393</td>\n",
              "      <td>Cafe Habana</td>\n",
              "      <td>Mexican</td>\n",
              "      <td>12.23</td>\n",
              "      <td>Weekday</td>\n",
              "      <td>5</td>\n",
              "      <td>23</td>\n",
              "      <td>28</td>\n",
              "    </tr>\n",
              "    <tr>\n",
              "      <th>3</th>\n",
              "      <td>1477334</td>\n",
              "      <td>106968</td>\n",
              "      <td>Blue Ribbon Fried Chicken</td>\n",
              "      <td>American</td>\n",
              "      <td>29.20</td>\n",
              "      <td>Weekend</td>\n",
              "      <td>3</td>\n",
              "      <td>25</td>\n",
              "      <td>15</td>\n",
              "    </tr>\n",
              "    <tr>\n",
              "      <th>4</th>\n",
              "      <td>1478249</td>\n",
              "      <td>76942</td>\n",
              "      <td>Dirty Bird to Go</td>\n",
              "      <td>American</td>\n",
              "      <td>11.59</td>\n",
              "      <td>Weekday</td>\n",
              "      <td>4</td>\n",
              "      <td>25</td>\n",
              "      <td>24</td>\n",
              "    </tr>\n",
              "  </tbody>\n",
              "</table>\n",
              "</div>\n",
              "      <button class=\"colab-df-convert\" onclick=\"convertToInteractive('df-48da3473-923d-4efd-92d8-c1c4ea75ceb8')\"\n",
              "              title=\"Convert this dataframe to an interactive table.\"\n",
              "              style=\"display:none;\">\n",
              "        \n",
              "  <svg xmlns=\"http://www.w3.org/2000/svg\" height=\"24px\"viewBox=\"0 0 24 24\"\n",
              "       width=\"24px\">\n",
              "    <path d=\"M0 0h24v24H0V0z\" fill=\"none\"/>\n",
              "    <path d=\"M18.56 5.44l.94 2.06.94-2.06 2.06-.94-2.06-.94-.94-2.06-.94 2.06-2.06.94zm-11 1L8.5 8.5l.94-2.06 2.06-.94-2.06-.94L8.5 2.5l-.94 2.06-2.06.94zm10 10l.94 2.06.94-2.06 2.06-.94-2.06-.94-.94-2.06-.94 2.06-2.06.94z\"/><path d=\"M17.41 7.96l-1.37-1.37c-.4-.4-.92-.59-1.43-.59-.52 0-1.04.2-1.43.59L10.3 9.45l-7.72 7.72c-.78.78-.78 2.05 0 2.83L4 21.41c.39.39.9.59 1.41.59.51 0 1.02-.2 1.41-.59l7.78-7.78 2.81-2.81c.8-.78.8-2.07 0-2.86zM5.41 20L4 18.59l7.72-7.72 1.47 1.35L5.41 20z\"/>\n",
              "  </svg>\n",
              "      </button>\n",
              "      \n",
              "  <style>\n",
              "    .colab-df-container {\n",
              "      display:flex;\n",
              "      flex-wrap:wrap;\n",
              "      gap: 12px;\n",
              "    }\n",
              "\n",
              "    .colab-df-convert {\n",
              "      background-color: #E8F0FE;\n",
              "      border: none;\n",
              "      border-radius: 50%;\n",
              "      cursor: pointer;\n",
              "      display: none;\n",
              "      fill: #1967D2;\n",
              "      height: 32px;\n",
              "      padding: 0 0 0 0;\n",
              "      width: 32px;\n",
              "    }\n",
              "\n",
              "    .colab-df-convert:hover {\n",
              "      background-color: #E2EBFA;\n",
              "      box-shadow: 0px 1px 2px rgba(60, 64, 67, 0.3), 0px 1px 3px 1px rgba(60, 64, 67, 0.15);\n",
              "      fill: #174EA6;\n",
              "    }\n",
              "\n",
              "    [theme=dark] .colab-df-convert {\n",
              "      background-color: #3B4455;\n",
              "      fill: #D2E3FC;\n",
              "    }\n",
              "\n",
              "    [theme=dark] .colab-df-convert:hover {\n",
              "      background-color: #434B5C;\n",
              "      box-shadow: 0px 1px 3px 1px rgba(0, 0, 0, 0.15);\n",
              "      filter: drop-shadow(0px 1px 2px rgba(0, 0, 0, 0.3));\n",
              "      fill: #FFFFFF;\n",
              "    }\n",
              "  </style>\n",
              "\n",
              "      <script>\n",
              "        const buttonEl =\n",
              "          document.querySelector('#df-48da3473-923d-4efd-92d8-c1c4ea75ceb8 button.colab-df-convert');\n",
              "        buttonEl.style.display =\n",
              "          google.colab.kernel.accessAllowed ? 'block' : 'none';\n",
              "\n",
              "        async function convertToInteractive(key) {\n",
              "          const element = document.querySelector('#df-48da3473-923d-4efd-92d8-c1c4ea75ceb8');\n",
              "          const dataTable =\n",
              "            await google.colab.kernel.invokeFunction('convertToInteractive',\n",
              "                                                     [key], {});\n",
              "          if (!dataTable) return;\n",
              "\n",
              "          const docLinkHtml = 'Like what you see? Visit the ' +\n",
              "            '<a target=\"_blank\" href=https://colab.research.google.com/notebooks/data_table.ipynb>data table notebook</a>'\n",
              "            + ' to learn more about interactive tables.';\n",
              "          element.innerHTML = '';\n",
              "          dataTable['output_type'] = 'display_data';\n",
              "          await google.colab.output.renderOutput(dataTable, element);\n",
              "          const docLink = document.createElement('div');\n",
              "          docLink.innerHTML = docLinkHtml;\n",
              "          element.appendChild(docLink);\n",
              "        }\n",
              "      </script>\n",
              "    </div>\n",
              "  </div>\n",
              "  "
            ]
          },
          "metadata": {},
          "execution_count": 4
        }
      ],
      "source": [
        "# Read the data\n",
        "df = pd.read_csv('/content/drive/MyDrive/Data Science/Projects/FoodHub/foodhub_order.csv') ## Fill the blank to read the data\n",
        "# Returns the first 5 rows\n",
        "df.head()"
      ]
    },
    {
      "cell_type": "markdown",
      "metadata": {
        "id": "AeR7rXZF2rdE"
      },
      "source": [
        "### **Question 1:** How many rows and columns are present in the data? [0.5 mark]"
      ]
    },
    {
      "cell_type": "code",
      "execution_count": null,
      "metadata": {
        "id": "xaLu_bAm2rdE",
        "colab": {
          "base_uri": "https://localhost:8080/"
        },
        "outputId": "655316a1-0bc5-4839-be11-b9a3d6afa34a"
      },
      "outputs": [
        {
          "output_type": "execute_result",
          "data": {
            "text/plain": [
              "(1898, 9)"
            ]
          },
          "metadata": {},
          "execution_count": 22
        }
      ],
      "source": [
        "# Check the shape of the dataset\n",
        "df.shape ## Fill in the blank"
      ]
    },
    {
      "cell_type": "markdown",
      "metadata": {
        "id": "-YJkCL112rdF"
      },
      "source": [
        "### **Question 2:** What are the datatypes of the different columns in the dataset? [0.5 mark]"
      ]
    },
    {
      "cell_type": "code",
      "execution_count": null,
      "metadata": {
        "id": "EUXmdNxe2rdF",
        "colab": {
          "base_uri": "https://localhost:8080/"
        },
        "outputId": "083a7828-5427-4715-f6f9-0a6a81fd9af7"
      },
      "outputs": [
        {
          "output_type": "stream",
          "name": "stdout",
          "text": [
            "<class 'pandas.core.frame.DataFrame'>\n",
            "RangeIndex: 1898 entries, 0 to 1897\n",
            "Data columns (total 9 columns):\n",
            " #   Column                 Non-Null Count  Dtype  \n",
            "---  ------                 --------------  -----  \n",
            " 0   order_id               1898 non-null   int64  \n",
            " 1   customer_id            1898 non-null   int64  \n",
            " 2   restaurant_name        1898 non-null   object \n",
            " 3   cuisine_type           1898 non-null   object \n",
            " 4   cost_of_the_order      1898 non-null   float64\n",
            " 5   day_of_the_week        1898 non-null   object \n",
            " 6   rating                 1898 non-null   object \n",
            " 7   food_preparation_time  1898 non-null   int64  \n",
            " 8   delivery_time          1898 non-null   int64  \n",
            "dtypes: float64(1), int64(4), object(4)\n",
            "memory usage: 133.6+ KB\n"
          ]
        }
      ],
      "source": [
        "df.info()"
      ]
    },
    {
      "cell_type": "markdown",
      "metadata": {
        "id": "Atn8lGeE2rdF"
      },
      "source": [
        "### **Question 3:** Are there any missing values in the data? If yes, treat them using an appropriate method.  [1 Mark]"
      ]
    },
    {
      "cell_type": "code",
      "execution_count": null,
      "metadata": {
        "id": "kZbMrwFC2rdG",
        "colab": {
          "base_uri": "https://localhost:8080/"
        },
        "outputId": "e20640dc-8824-4caf-aebb-84aa48c75f2b"
      },
      "outputs": [
        {
          "output_type": "execute_result",
          "data": {
            "text/plain": [
              "order_id                 0\n",
              "customer_id              0\n",
              "restaurant_name          0\n",
              "cuisine_type             0\n",
              "cost_of_the_order        0\n",
              "day_of_the_week          0\n",
              "rating                   0\n",
              "food_preparation_time    0\n",
              "delivery_time            0\n",
              "dtype: int64"
            ]
          },
          "metadata": {},
          "execution_count": 9
        }
      ],
      "source": [
        "# Checking for missing values in the data\n",
        "df.isnull().sum()  #Write the appropriate function to print the sum of null values for each column"
      ]
    },
    {
      "cell_type": "markdown",
      "metadata": {
        "id": "krjqvuKv2rdG"
      },
      "source": [
        "### **Question 4:** Check the statistical summary of the data. What is the minimum, average, and maximum time it takes for food to be prepared once an order is placed? [2 marks]"
      ]
    },
    {
      "cell_type": "code",
      "execution_count": null,
      "metadata": {
        "id": "MDZkL24f2rdG",
        "colab": {
          "base_uri": "https://localhost:8080/"
        },
        "outputId": "3812945d-9fff-4966-c41a-7c2cd041d975"
      },
      "outputs": [
        {
          "output_type": "execute_result",
          "data": {
            "text/plain": [
              "count    1898.000000\n",
              "mean       27.371970\n",
              "std         4.632481\n",
              "min        20.000000\n",
              "25%        23.000000\n",
              "50%        27.000000\n",
              "75%        31.000000\n",
              "max        35.000000\n",
              "Name: food_preparation_time, dtype: float64"
            ]
          },
          "metadata": {},
          "execution_count": 17
        }
      ],
      "source": [
        "# Get the summary statistics of the numerical data\n",
        "df['food_preparation_time'].describe() ## Write the appropriate function to print the statitical summary of the data (Hint - you have seen this in the case studies before)"
      ]
    },
    {
      "cell_type": "code",
      "source": [
        "df['delivery_time'].describe()"
      ],
      "metadata": {
        "colab": {
          "base_uri": "https://localhost:8080/"
        },
        "id": "zPrdmQjflHyb",
        "outputId": "4dd2effe-b899-4ad9-e9d9-11b7615b1f6f"
      },
      "execution_count": null,
      "outputs": [
        {
          "output_type": "execute_result",
          "data": {
            "text/plain": [
              "count    1898.000000\n",
              "mean       24.161749\n",
              "std         4.972637\n",
              "min        15.000000\n",
              "25%        20.000000\n",
              "50%        25.000000\n",
              "75%        28.000000\n",
              "max        33.000000\n",
              "Name: delivery_time, dtype: float64"
            ]
          },
          "metadata": {},
          "execution_count": 12
        }
      ]
    },
    {
      "cell_type": "code",
      "source": [
        "df['cost_of_the_order'].describe()"
      ],
      "metadata": {
        "colab": {
          "base_uri": "https://localhost:8080/"
        },
        "id": "s0RIJHTYlZXl",
        "outputId": "9696320b-cb59-434b-ab4e-53a7cf67a2fa"
      },
      "execution_count": null,
      "outputs": [
        {
          "output_type": "execute_result",
          "data": {
            "text/plain": [
              "count    1898.000000\n",
              "mean       16.498851\n",
              "std         7.483812\n",
              "min         4.470000\n",
              "25%        12.080000\n",
              "50%        14.140000\n",
              "75%        22.297500\n",
              "max        35.410000\n",
              "Name: cost_of_the_order, dtype: float64"
            ]
          },
          "metadata": {},
          "execution_count": 14
        }
      ]
    },
    {
      "cell_type": "code",
      "source": [
        "df.describe()"
      ],
      "metadata": {
        "colab": {
          "base_uri": "https://localhost:8080/",
          "height": 323
        },
        "id": "CdG6kh_OmKww",
        "outputId": "c24eac33-41ab-4343-f146-c6cd14f6d30a"
      },
      "execution_count": null,
      "outputs": [
        {
          "output_type": "execute_result",
          "data": {
            "text/plain": [
              "           order_id    customer_id  cost_of_the_order  food_preparation_time  \\\n",
              "count  1.898000e+03    1898.000000        1898.000000            1898.000000   \n",
              "mean   1.477496e+06  171168.478398          16.498851              27.371970   \n",
              "std    5.480497e+02  113698.139743           7.483812               4.632481   \n",
              "min    1.476547e+06    1311.000000           4.470000              20.000000   \n",
              "25%    1.477021e+06   77787.750000          12.080000              23.000000   \n",
              "50%    1.477496e+06  128600.000000          14.140000              27.000000   \n",
              "75%    1.477970e+06  270525.000000          22.297500              31.000000   \n",
              "max    1.478444e+06  405334.000000          35.410000              35.000000   \n",
              "\n",
              "       delivery_time  \n",
              "count    1898.000000  \n",
              "mean       24.161749  \n",
              "std         4.972637  \n",
              "min        15.000000  \n",
              "25%        20.000000  \n",
              "50%        25.000000  \n",
              "75%        28.000000  \n",
              "max        33.000000  "
            ],
            "text/html": [
              "\n",
              "  <div id=\"df-69a8c90c-ab7f-4bde-8d14-ec1b0897e326\">\n",
              "    <div class=\"colab-df-container\">\n",
              "      <div>\n",
              "<style scoped>\n",
              "    .dataframe tbody tr th:only-of-type {\n",
              "        vertical-align: middle;\n",
              "    }\n",
              "\n",
              "    .dataframe tbody tr th {\n",
              "        vertical-align: top;\n",
              "    }\n",
              "\n",
              "    .dataframe thead th {\n",
              "        text-align: right;\n",
              "    }\n",
              "</style>\n",
              "<table border=\"1\" class=\"dataframe\">\n",
              "  <thead>\n",
              "    <tr style=\"text-align: right;\">\n",
              "      <th></th>\n",
              "      <th>order_id</th>\n",
              "      <th>customer_id</th>\n",
              "      <th>cost_of_the_order</th>\n",
              "      <th>food_preparation_time</th>\n",
              "      <th>delivery_time</th>\n",
              "    </tr>\n",
              "  </thead>\n",
              "  <tbody>\n",
              "    <tr>\n",
              "      <th>count</th>\n",
              "      <td>1.898000e+03</td>\n",
              "      <td>1898.000000</td>\n",
              "      <td>1898.000000</td>\n",
              "      <td>1898.000000</td>\n",
              "      <td>1898.000000</td>\n",
              "    </tr>\n",
              "    <tr>\n",
              "      <th>mean</th>\n",
              "      <td>1.477496e+06</td>\n",
              "      <td>171168.478398</td>\n",
              "      <td>16.498851</td>\n",
              "      <td>27.371970</td>\n",
              "      <td>24.161749</td>\n",
              "    </tr>\n",
              "    <tr>\n",
              "      <th>std</th>\n",
              "      <td>5.480497e+02</td>\n",
              "      <td>113698.139743</td>\n",
              "      <td>7.483812</td>\n",
              "      <td>4.632481</td>\n",
              "      <td>4.972637</td>\n",
              "    </tr>\n",
              "    <tr>\n",
              "      <th>min</th>\n",
              "      <td>1.476547e+06</td>\n",
              "      <td>1311.000000</td>\n",
              "      <td>4.470000</td>\n",
              "      <td>20.000000</td>\n",
              "      <td>15.000000</td>\n",
              "    </tr>\n",
              "    <tr>\n",
              "      <th>25%</th>\n",
              "      <td>1.477021e+06</td>\n",
              "      <td>77787.750000</td>\n",
              "      <td>12.080000</td>\n",
              "      <td>23.000000</td>\n",
              "      <td>20.000000</td>\n",
              "    </tr>\n",
              "    <tr>\n",
              "      <th>50%</th>\n",
              "      <td>1.477496e+06</td>\n",
              "      <td>128600.000000</td>\n",
              "      <td>14.140000</td>\n",
              "      <td>27.000000</td>\n",
              "      <td>25.000000</td>\n",
              "    </tr>\n",
              "    <tr>\n",
              "      <th>75%</th>\n",
              "      <td>1.477970e+06</td>\n",
              "      <td>270525.000000</td>\n",
              "      <td>22.297500</td>\n",
              "      <td>31.000000</td>\n",
              "      <td>28.000000</td>\n",
              "    </tr>\n",
              "    <tr>\n",
              "      <th>max</th>\n",
              "      <td>1.478444e+06</td>\n",
              "      <td>405334.000000</td>\n",
              "      <td>35.410000</td>\n",
              "      <td>35.000000</td>\n",
              "      <td>33.000000</td>\n",
              "    </tr>\n",
              "  </tbody>\n",
              "</table>\n",
              "</div>\n",
              "      <button class=\"colab-df-convert\" onclick=\"convertToInteractive('df-69a8c90c-ab7f-4bde-8d14-ec1b0897e326')\"\n",
              "              title=\"Convert this dataframe to an interactive table.\"\n",
              "              style=\"display:none;\">\n",
              "        \n",
              "  <svg xmlns=\"http://www.w3.org/2000/svg\" height=\"24px\"viewBox=\"0 0 24 24\"\n",
              "       width=\"24px\">\n",
              "    <path d=\"M0 0h24v24H0V0z\" fill=\"none\"/>\n",
              "    <path d=\"M18.56 5.44l.94 2.06.94-2.06 2.06-.94-2.06-.94-.94-2.06-.94 2.06-2.06.94zm-11 1L8.5 8.5l.94-2.06 2.06-.94-2.06-.94L8.5 2.5l-.94 2.06-2.06.94zm10 10l.94 2.06.94-2.06 2.06-.94-2.06-.94-.94-2.06-.94 2.06-2.06.94z\"/><path d=\"M17.41 7.96l-1.37-1.37c-.4-.4-.92-.59-1.43-.59-.52 0-1.04.2-1.43.59L10.3 9.45l-7.72 7.72c-.78.78-.78 2.05 0 2.83L4 21.41c.39.39.9.59 1.41.59.51 0 1.02-.2 1.41-.59l7.78-7.78 2.81-2.81c.8-.78.8-2.07 0-2.86zM5.41 20L4 18.59l7.72-7.72 1.47 1.35L5.41 20z\"/>\n",
              "  </svg>\n",
              "      </button>\n",
              "      \n",
              "  <style>\n",
              "    .colab-df-container {\n",
              "      display:flex;\n",
              "      flex-wrap:wrap;\n",
              "      gap: 12px;\n",
              "    }\n",
              "\n",
              "    .colab-df-convert {\n",
              "      background-color: #E8F0FE;\n",
              "      border: none;\n",
              "      border-radius: 50%;\n",
              "      cursor: pointer;\n",
              "      display: none;\n",
              "      fill: #1967D2;\n",
              "      height: 32px;\n",
              "      padding: 0 0 0 0;\n",
              "      width: 32px;\n",
              "    }\n",
              "\n",
              "    .colab-df-convert:hover {\n",
              "      background-color: #E2EBFA;\n",
              "      box-shadow: 0px 1px 2px rgba(60, 64, 67, 0.3), 0px 1px 3px 1px rgba(60, 64, 67, 0.15);\n",
              "      fill: #174EA6;\n",
              "    }\n",
              "\n",
              "    [theme=dark] .colab-df-convert {\n",
              "      background-color: #3B4455;\n",
              "      fill: #D2E3FC;\n",
              "    }\n",
              "\n",
              "    [theme=dark] .colab-df-convert:hover {\n",
              "      background-color: #434B5C;\n",
              "      box-shadow: 0px 1px 3px 1px rgba(0, 0, 0, 0.15);\n",
              "      filter: drop-shadow(0px 1px 2px rgba(0, 0, 0, 0.3));\n",
              "      fill: #FFFFFF;\n",
              "    }\n",
              "  </style>\n",
              "\n",
              "      <script>\n",
              "        const buttonEl =\n",
              "          document.querySelector('#df-69a8c90c-ab7f-4bde-8d14-ec1b0897e326 button.colab-df-convert');\n",
              "        buttonEl.style.display =\n",
              "          google.colab.kernel.accessAllowed ? 'block' : 'none';\n",
              "\n",
              "        async function convertToInteractive(key) {\n",
              "          const element = document.querySelector('#df-69a8c90c-ab7f-4bde-8d14-ec1b0897e326');\n",
              "          const dataTable =\n",
              "            await google.colab.kernel.invokeFunction('convertToInteractive',\n",
              "                                                     [key], {});\n",
              "          if (!dataTable) return;\n",
              "\n",
              "          const docLinkHtml = 'Like what you see? Visit the ' +\n",
              "            '<a target=\"_blank\" href=https://colab.research.google.com/notebooks/data_table.ipynb>data table notebook</a>'\n",
              "            + ' to learn more about interactive tables.';\n",
              "          element.innerHTML = '';\n",
              "          dataTable['output_type'] = 'display_data';\n",
              "          await google.colab.output.renderOutput(dataTable, element);\n",
              "          const docLink = document.createElement('div');\n",
              "          docLink.innerHTML = docLinkHtml;\n",
              "          element.appendChild(docLink);\n",
              "        }\n",
              "      </script>\n",
              "    </div>\n",
              "  </div>\n",
              "  "
            ]
          },
          "metadata": {},
          "execution_count": 18
        }
      ]
    },
    {
      "cell_type": "markdown",
      "metadata": {
        "id": "LDlbXZWG2rdH"
      },
      "source": [
        "### **Question 5:** How many orders are not rated? [1 mark]"
      ]
    },
    {
      "cell_type": "code",
      "execution_count": null,
      "metadata": {
        "id": "RUJo1me22rdH",
        "colab": {
          "base_uri": "https://localhost:8080/"
        },
        "outputId": "c210f2c6-93a6-48f0-b726-9b1995cf6e75"
      },
      "outputs": [
        {
          "output_type": "execute_result",
          "data": {
            "text/plain": [
              "Not given    736\n",
              "5            588\n",
              "4            386\n",
              "3            188\n",
              "Name: rating, dtype: int64"
            ]
          },
          "metadata": {},
          "execution_count": 42
        }
      ],
      "source": [
        "df['rating'].value_counts() ## Complete the code"
      ]
    },
    {
      "cell_type": "markdown",
      "metadata": {
        "id": "LUh8hTiW2rdH"
      },
      "source": [
        "### Exploratory Data Analysis (EDA)"
      ]
    },
    {
      "cell_type": "markdown",
      "metadata": {
        "id": "2Dl2aL1W2rdI"
      },
      "source": [
        "### Univariate Analysis"
      ]
    },
    {
      "cell_type": "markdown",
      "metadata": {
        "id": "gxBiurJ-2rdI"
      },
      "source": [
        "### **Question 6:** Explore all the variables and provide observations on their distributions. (Generally, histograms, boxplots, countplots, etc. are used for univariate exploration.) [9 marks]"
      ]
    },
    {
      "cell_type": "markdown",
      "metadata": {
        "id": "TXEjEAXqbZmQ"
      },
      "source": [
        "#### Order ID"
      ]
    },
    {
      "cell_type": "code",
      "execution_count": null,
      "metadata": {
        "id": "cmmmjUyebZmQ",
        "colab": {
          "base_uri": "https://localhost:8080/"
        },
        "outputId": "1217bdab-b939-4a2c-fd0b-600ac9abed84"
      },
      "outputs": [
        {
          "output_type": "execute_result",
          "data": {
            "text/plain": [
              "1898"
            ]
          },
          "metadata": {},
          "execution_count": 24
        }
      ],
      "source": [
        "# check unique order ID\n",
        "df['order_id'].nunique()"
      ]
    },
    {
      "cell_type": "markdown",
      "metadata": {
        "id": "ts6l2h0abZmQ"
      },
      "source": [
        "#### Customer ID"
      ]
    },
    {
      "cell_type": "code",
      "execution_count": null,
      "metadata": {
        "id": "yZRW2FBSbZmQ",
        "colab": {
          "base_uri": "https://localhost:8080/"
        },
        "outputId": "df06c58b-8cb0-40b9-f5e4-6e86d7fa35e6"
      },
      "outputs": [
        {
          "output_type": "execute_result",
          "data": {
            "text/plain": [
              "1200"
            ]
          },
          "metadata": {},
          "execution_count": 25
        }
      ],
      "source": [
        "# check unique customer ID\n",
        "df['customer_id'].nunique()  ## Complete the code to find out number of unique Customer ID"
      ]
    },
    {
      "cell_type": "markdown",
      "metadata": {
        "id": "mgv5gIIEbZmR"
      },
      "source": [
        "#### Restaurant name"
      ]
    },
    {
      "cell_type": "code",
      "execution_count": null,
      "metadata": {
        "id": "GYGzUuzcbZmR",
        "colab": {
          "base_uri": "https://localhost:8080/"
        },
        "outputId": "96e5084b-06ee-440b-e1c0-0b1124f89536"
      },
      "outputs": [
        {
          "output_type": "execute_result",
          "data": {
            "text/plain": [
              "178"
            ]
          },
          "metadata": {},
          "execution_count": 26
        }
      ],
      "source": [
        "# check unique Restaurant Name\n",
        "df['restaurant_name'].nunique()  ## Complete the code to find out number of unique Restaurant Name"
      ]
    },
    {
      "cell_type": "markdown",
      "metadata": {
        "id": "X7jR8GHN2rdK"
      },
      "source": [
        "#### Cuisine type"
      ]
    },
    {
      "cell_type": "code",
      "execution_count": null,
      "metadata": {
        "id": "uFd2adxc2rdK",
        "colab": {
          "base_uri": "https://localhost:8080/"
        },
        "outputId": "ffddae09-d4c2-441e-9261-9ca840443995"
      },
      "outputs": [
        {
          "output_type": "execute_result",
          "data": {
            "text/plain": [
              "14"
            ]
          },
          "metadata": {},
          "execution_count": 16
        }
      ],
      "source": [
        "# Check unique cuisine type\n",
        "df['cuisine_type'].nunique() ## Complete the code to find out  number of  unique cuisine type"
      ]
    },
    {
      "cell_type": "code",
      "execution_count": null,
      "metadata": {
        "id": "4JHi590P2rdK",
        "scrolled": true,
        "colab": {
          "base_uri": "https://localhost:8080/",
          "height": 356
        },
        "outputId": "ccaf4514-cb77-42fd-d3a1-1ae7903b4c9b"
      },
      "outputs": [
        {
          "output_type": "display_data",
          "data": {
            "text/plain": [
              "<Figure size 1080x360 with 1 Axes>"
            ],
            "image/png": "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\n"
          },
          "metadata": {
            "needs_background": "light"
          }
        }
      ],
      "source": [
        "plt.figure(figsize = (15,5))\n",
        "sns.countplot(data = df, x = 'cuisine_type', order=df['cuisine_type'].value_counts().index); ## Create a countplot for cuisine type.\n",
        "plt.savefig('cuisine.png')"
      ]
    },
    {
      "cell_type": "markdown",
      "metadata": {
        "id": "fmWW_qb42rdL"
      },
      "source": [
        "#### Cost of the order"
      ]
    },
    {
      "cell_type": "code",
      "execution_count": null,
      "metadata": {
        "id": "kq1lIbf42rdL",
        "scrolled": false,
        "colab": {
          "base_uri": "https://localhost:8080/",
          "height": 564
        },
        "outputId": "02e99914-b9e6-48df-f402-126fb6674804"
      },
      "outputs": [
        {
          "output_type": "display_data",
          "data": {
            "text/plain": [
              "<Figure size 432x288 with 1 Axes>"
            ],
            "image/png": "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\n"
          },
          "metadata": {
            "needs_background": "light"
          }
        },
        {
          "output_type": "display_data",
          "data": {
            "text/plain": [
              "<Figure size 432x288 with 1 Axes>"
            ],
            "image/png": "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\n"
          },
          "metadata": {
            "needs_background": "light"
          }
        }
      ],
      "source": [
        "sns.histplot(data=df,x='cost_of_the_order', kde=True) ## Histogram for the cost of order\n",
        "plt.savefig('costoforder1.png')\n",
        "plt.show()\n",
        "sns.boxplot(data=df,x='cost_of_the_order') ## Boxplot for the cost of order\n",
        "plt.savefig('costoforder2.png')\n",
        "plt.show()"
      ]
    },
    {
      "cell_type": "markdown",
      "metadata": {
        "id": "p34KqEqx2rdL"
      },
      "source": [
        "#### Day of the week"
      ]
    },
    {
      "cell_type": "code",
      "execution_count": null,
      "metadata": {
        "id": "KBMjgXjv2rdL",
        "colab": {
          "base_uri": "https://localhost:8080/"
        },
        "outputId": "d0f0c645-0c92-4949-a684-13cd910ae6fe"
      },
      "outputs": [
        {
          "output_type": "execute_result",
          "data": {
            "text/plain": [
              "array(['Weekend', 'Weekday'], dtype=object)"
            ]
          },
          "metadata": {},
          "execution_count": 43
        }
      ],
      "source": [
        "# # Check the unique values\n",
        "df['day_of_the_week'].unique() ## Complete the code to check unique values for the 'day_of_the_week' column"
      ]
    },
    {
      "cell_type": "code",
      "execution_count": null,
      "metadata": {
        "id": "Q5jvwJkZ2rdL",
        "scrolled": false,
        "colab": {
          "base_uri": "https://localhost:8080/",
          "height": 301
        },
        "outputId": "806fa765-12a2-4335-853f-fc25de12e935"
      },
      "outputs": [
        {
          "output_type": "display_data",
          "data": {
            "text/plain": [
              "<Figure size 432x288 with 1 Axes>"
            ],
            "image/png": "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\n"
          },
          "metadata": {
            "needs_background": "light"
          }
        }
      ],
      "source": [
        "sns.countplot(data = df, x = 'day_of_the_week'); ## Complete the code to plot a bar graph for 'day_of_the_week' column\n",
        "plt.savefig('dayoftheweek.png')"
      ]
    },
    {
      "cell_type": "markdown",
      "metadata": {
        "id": "1oOW_lzO2rdL"
      },
      "source": [
        "#### Rating"
      ]
    },
    {
      "cell_type": "code",
      "execution_count": null,
      "metadata": {
        "id": "TNxjskCF2rdL",
        "scrolled": true,
        "colab": {
          "base_uri": "https://localhost:8080/"
        },
        "outputId": "8adb5389-e53c-4253-b274-a817b41f4525"
      },
      "outputs": [
        {
          "output_type": "execute_result",
          "data": {
            "text/plain": [
              "4"
            ]
          },
          "metadata": {},
          "execution_count": 44
        }
      ],
      "source": [
        "# Check the unique values\n",
        "df['rating'].nunique() ## Complete the code to check unique values for the 'rating' column"
      ]
    },
    {
      "cell_type": "code",
      "execution_count": null,
      "metadata": {
        "id": "aP_djdHY2rdM",
        "scrolled": true,
        "colab": {
          "base_uri": "https://localhost:8080/",
          "height": 300
        },
        "outputId": "1f724cdf-def8-46fd-86c5-27d89bfd437f"
      },
      "outputs": [
        {
          "output_type": "display_data",
          "data": {
            "text/plain": [
              "<Figure size 432x288 with 1 Axes>"
            ],
            "image/png": "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\n"
          },
          "metadata": {
            "needs_background": "light"
          }
        }
      ],
      "source": [
        "sns.countplot(data = df, x = 'rating'); ## Complete the code to plot bar graph for 'rating' column\n",
        "plt.savefig('rating.png')"
      ]
    },
    {
      "cell_type": "markdown",
      "metadata": {
        "id": "OP1gYWnR2rdM"
      },
      "source": [
        "#### Food Preparation time"
      ]
    },
    {
      "cell_type": "code",
      "execution_count": null,
      "metadata": {
        "id": "TYiF3h3t2rdM",
        "scrolled": true,
        "colab": {
          "base_uri": "https://localhost:8080/",
          "height": 564
        },
        "outputId": "1be37a19-6de4-4aa0-a208-a7eee0d992fe"
      },
      "outputs": [
        {
          "output_type": "display_data",
          "data": {
            "text/plain": [
              "<Figure size 432x288 with 1 Axes>"
            ],
            "image/png": "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\n"
          },
          "metadata": {
            "needs_background": "light"
          }
        },
        {
          "output_type": "display_data",
          "data": {
            "text/plain": [
              "<Figure size 432x288 with 1 Axes>"
            ],
            "image/png": "iVBORw0KGgoAAAANSUhEUgAAAWAAAAEHCAYAAACQkJyuAAAABHNCSVQICAgIfAhkiAAAAAlwSFlzAAALEgAACxIB0t1+/AAAADh0RVh0U29mdHdhcmUAbWF0cGxvdGxpYiB2ZXJzaW9uMy4yLjIsIGh0dHA6Ly9tYXRwbG90bGliLm9yZy+WH4yJAAAOdElEQVR4nO3de5BkdXnG8e/L7gKLyM3FlSyYEUbLSllKzMZ4C0FMvBATU0lIIsRAJVZKjMuKSYyJVbr6F5dECialFpVQZRGKcJEYomiAgIEQFmoXuQaMHV2jK3cilyxgsbz54/xG2sncdran3x7m+6nqmtPnnDnn6a7pp0+f7v5NZCaSpOHbozqAJC1XFrAkFbGAJamIBSxJRSxgSSqycldWXrNmTY6NjS1SFEl6ftq6detDmXnw1Pm7VMBjY2Ns2bJlcKkkaRmIiO9MN99TEJJUxAKWpCIWsCQVsYAlqYgFLElFLGBJKmIBS1IRC1iSiljAklTEApakIhawJBWxgCWpiAUsSUUsYEkqYgFLUhELWJKKWMCSVMQClqQiFrAkFdml/wmn+ZuYmKDX61XHWNK2b98OwLp164qTLG3j4+Ns2LChOoamYQEvkl6vx6133s3OfQ6qjrJkrdjxKAD3Pe2f6UKt2PFIdQTNwr/sRbRzn4N48pXHVsdYslbfcwWA9+FumLwPNZo8ByxJRSxgSSpiAUtSEQtYkopYwJJUxAKWpCIWsCQVsYAlqYgFLElFLGBJKmIBS1IRC1iSiljAklTEApakIhawJBWxgCWpiAUsSUUsYEkqYgFLUhELWJKKWMCSVMQClqQiFrAkFbGAJamIBSxJRSxgSSpiAUtSEQtYkopYwJJUxAKWpCIWsCQVsYAlqYgFLElFLGBJKmIBS1IRC1iSiljAklTEApakIhawJBWxgCWpiAUsSUWGUsATExNMTEwMY1eSNFCL2V8rF2WrU/R6vWHsRpIGbjH7y1MQklTEApakIhawJBWxgCWpiAUsSUUsYEkqYgFLUhELWJKKWMCSVMQClqQiFrAkFbGAJamIBSxJRSxgSSpiAUtSEQtYkopYwJJUxAKWpCIWsCQVsYAlqYgFLElFLGBJKmIBS1IRC1iSiljAklTEApakIhawJBWxgCWpiAUsSUUsYEkqYgFLUhELWJKKWMCSVMQClqQiFrAkFbGAJamIBSxJRSxgSSpiAUtSEQtYkopYwJJUZOUwdrJ9+3aefPJJNm7cOIzdjYRer8ceP8zqGFrm9njqMXq9x5fVY2/Qer0eq1evXpRtz3kEHBF/GBFbImLLgw8+uCghJGk5mvMIODPPBc4FWL9+/YIO6datWwfA2WefvZBfX5I2btzI1m/dXx1Dy9yze+/H+OFrl9Vjb9AW89WD54AlqYgFLElFLGBJKmIBS1IRC1iSiljAklTEApakIhawJBWxgCWpiAUsSUUsYEkqYgFLUhELWJKKWMCSVMQClqQiFrAkFbGAJamIBSxJRSxgSSpiAUtSEQtYkopYwJJUxAKWpCIWsCQVsYAlqYgFLElFLGBJKmIBS1IRC1iSiljAklTEApakIhawJBWxgCWpiAUsSUUsYEkqYgFLUhELWJKKWMCSVMQClqQiFrAkFbGAJamIBSxJRVYOYyfj4+PD2I0kDdxi9tdQCnjDhg3D2I0kDdxi9penICSpiAUsSUUsYEkqYgFLUhELWJKKWMCSVMQClqQiFrAkFbGAJamIBSxJRSxgSSpiAUtSEQtYkopYwJJUxAKWpCIWsCQVsYAlqYgFLElFLGBJKmIBS1IRC1iSiljAklTEApakIhawJBWxgCWpiAUsSUUsYEkqYgFLUhELWJKKWMCSVMQClqQiFrAkFbGAJamIBSxJRSxgSSpiAUtSEQtYkopYwJJUxAKWpCIWsCQVWVkd4PlsxY5HWH3PFdUxlqwVOx4G8D7cDSt2PAKsrY6hGVjAi2R8fLw6wpK3ffszAKxbZ4Es3Fr/FkeYBbxINmzYUB1B0ojzHLAkFbGAJamIBSxJRSxgSSpiAUtSEQtYkopYwJJUxAKWpCIWsCQVsYAlqYgFLElFLGBJKmIBS1IRC1iSiljAklTEApakIhawJBWxgCWpiAUsSUUsYEkqEpk5/5UjHgS+s8B9rQEeWuDvDsuoZxz1fDD6GUc9H4x+xlHPB6OX8Scz8+CpM3epgHdHRGzJzPVD2dkCjXrGUc8Ho59x1PPB6Gcc9XywNDKCpyAkqYwFLElFhlnA5w5xXws16hlHPR+MfsZRzwejn3HU88HSyDi8c8CSpB/nKQhJKmIBS1KRgRdwRBwWEddGxH9ExF0RsbHNPygiroqIb7afBw563wPIeGZE3BMRt0fEP0TEAaOWsW/5H0dERsSaUcsXERva/XhXRJxRkW+2jBFxZERsjohbI2JLRLyuKN/eEXFzRNzW8n2yzX9ZRNwUEb2IuCgi9qzIN0fGCyLiGxFxZ0ScFxGrRilf3/JzIuKJimzzkpkDvQCHAK9t0y8E/hP4KeAM4KNt/keB0we97wFkfBuwss0/fRQztuuHAf9M96WYNaOUD3gLcDWwV1v24lG7D4ErgXe2+ccCXyvKF8C+bXoVcBPweuBi4Hfa/M8BJxfehzNlPLYtC+DCqowz5WvX1wPnA09U3X9zXQZ+BJyZ92bmLW36ceBuYB3wbuDzbbXPA7826H3P10wZM/PKzHymrbYZOHTUMrbFZwEfAcreQZ0l38nAaZn5dFv2wAhmTGC/ttr+wPeL8mVmTh6drWqXBI4BLm3zqx8r02bMzCvasgRupuixMlO+iFgBnEn3OBlZi3oOOCLGgJ+me1Zam5n3tkX3AWsXc9/zNSVjv98HvjLsPNPpzxgR7wa2Z+ZtpaH6TLkPXwH8fHsJ/a8R8bOV2SZNyfgh4MyI+C7wl8CfF+ZaERG3Ag8AVwH/Bfyg70Dgezz3xFtiasbMvKlv2SrgvcBXRyzfB4HL+zpnJC1aAUfEvsAXgA9l5mP9y9qzZvnn32bKGBEfA54BLqjK1pflRxnpMv0F8PHSUH2muQ9XAgfRvUz9U+DiiIjCiNNlPBk4NTMPA04F/rYqW2buzMwj6Y4gXwe8sirLTKZmjIhX9S3+DHBdZl5fk27afEcBxwETVZnma1EKuD0rfgG4IDMva7Pvj4hD2vJD6J6tysyQkYg4CXgXcEJ7oigzTcYjgJcBt0XENro/uFsi4iUjkg+6I7bL2kvDm4Fn6QZGKTFDxhOByelL6IqvVGb+ALgWeANwQESsbIsOBbaXBevTl/EdABHxCeBg4MOVuSb15XsLMA702uNkn4joVWabyWJ8CiLojijuzsxP9y26nO4Pn/bzHwe97/maKWNEvIPunNGvZuaOqnwty//LmJl3ZOaLM3MsM8foyu61mXnfKORrvkj3ACAiXgHsSdGoVLNk/D7wC236GOCbw84GEBEHT37SJiJWA79Ed576WuA322rVj5XpMt4TEe8D3g68JzOfHbF8WzPzJX2Pkx2ZOV6VcTYD/yZcRLwZuB64g+7oB7qXzTfRvbv7Urp3738rMx8Z6M53P+M5wF7Aw23e5sx8//ATzpwxM6/oW2cbsD4zh15ws9yHVwPnAUcCPwT+JDOvGXa+OTI+BpxNd7rkKeADmbm1IN+r6d5kW0F3MHRxZn4qIg4H/p7uVM7Xgd+dfFNzhDI+Q/c4frytellmfmpU8k1Z54nM3HfY2ebDryJLUhG/CSdJRSxgSSpiAUtSEQtYkopYwJJUxAKWpCIW8DISEadExN0RsVtfsY6IbVE0DObuiIixiDi+7/r6iDhngNs/ICI+0Hf9JyLi0tl+R8ubnwNeRiLiHuAXM/N7u7mdbezmF0AiYkVm7tydHDNsd2XfQDZTlx1N98WQdw16v237Y8CXMvNVc6wqAR4BLxsR8TngcOAr0Q3m/sXoBp7f3L5NNDlo/nTzXxQRV7YBr/+GbgzWmfYzFt1g7Be0o+1LI2KftmxbRJweEbcAx0XE2yLixoi4JSIuaYPmTK53RkTcEd1g2+Nt/q+0Uda+HhFXR8TaNn9TRJwfETcA57cM17ft3hIRb2zxTqMbqe3WiDg1Io6OiC/Ncds3RTfg+Nci4lsRccosd/NpwBFt+2e2HHe27ZzUtn9Vu30fjIgPt9uyOSIOausdERFfjYit7TaM3OA8GqCFDiTsZeldgG10A+NMAJ9o844Bbm3TM80/B/h4m/5lupHsph0IHhhry9/Urp9Hd9Q5uf+PtOk1wHXAC9r1P+vbxzbgY2369+iOKgEO5LlXbe8D/qpNbwK2Aqvb9X2Avdv0y4EtbfroyW1NvT7Lbd8E/DvdV9TX0H1NfdUst/3O6a4DJwE9uoHhDwYeBd7flp1FN1IbwL8AL2/TPwdcU/1342XxLpMjLml5eTPwGwCZeU07wt1vlvlHAb/e5n85Iv5nju1/NzNvaNN/B5xCN+4uwEXt5+vp/jvFDd2YOewJ3Ni3jQv7fp7Vpg8FLopuNL09gW/3rX95Zj7ZplcBfx0RRwI76cYonstMtx3gy9mNxfB0RDxAN5b1Qk7jXJvdwPCPR8SjwD+1+XcAr26vAN4IXBLPjeC51wL2oyXCAtZimPrGQv/1/20/g27w7PfMYxuT0xPApzPz8nY+d9M024VujN/7gdfQnWZ7at7Jp9c/EM5OFv646d/Os33Xn23b3INuMPYjF7h9LTGeA16ergdOgB+9MfVQdgOVzzT/OuD4Nv+ddKcCZvPSiHhDmz4e+Ldp1tkMvKnv/O4Lohu+ctJv9/2cPDLen+fGxj2Rme0P3JvdMInvpRspC7qRu144w+/MdNt3xWzbn1Pb37cj4riWIyLiNQvdnkafBbw8bQJ+JiJup3vj6MQ55n8SOCoi7qI7FfHfc2z/G8AfRcTddGX92akrZOaDdOdFL2z7u5Ef/28QB7b5G+mOaCfzXRIRW5l9jOHPACdGxG1tm5NHx7cDO6P7D7qnTvmdTUx/2+ctMx+mO6VyZ0Scuau/35wA/EHLfhfd/1LU85QfQ9NADeKjWIP4mJu0FHgELElFPALWgkTEi+g+MjXVW9tL8eet5XzbNVgWsCQV8RSEJBWxgCWpiAUsSUUsYEkq8n9TFotUcAjf1QAAAABJRU5ErkJggg==\n"
          },
          "metadata": {
            "needs_background": "light"
          }
        }
      ],
      "source": [
        "sns.histplot(data=df,x='food_preparation_time', kde=True) ## Complete the code to plot the histogram for the cost of order\n",
        "plt.savefig('fpt1.png')\n",
        "plt.show()\n",
        "sns.boxplot(data=df,x='food_preparation_time') ## Complete the code to plot the boxplot for the cost of order\n",
        "plt.savefig('fpt2.png')\n",
        "plt.show()"
      ]
    },
    {
      "cell_type": "markdown",
      "metadata": {
        "id": "ENW0PF5b2rdM"
      },
      "source": [
        "#### Delivery time"
      ]
    },
    {
      "cell_type": "code",
      "execution_count": null,
      "metadata": {
        "id": "_1ZcT_SM2rdM",
        "scrolled": true,
        "colab": {
          "base_uri": "https://localhost:8080/",
          "height": 564
        },
        "outputId": "a32cc1a3-2289-442e-fcfe-f77db7c3aa54"
      },
      "outputs": [
        {
          "output_type": "display_data",
          "data": {
            "text/plain": [
              "<Figure size 432x288 with 1 Axes>"
            ],
            "image/png": "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\n"
          },
          "metadata": {
            "needs_background": "light"
          }
        },
        {
          "output_type": "display_data",
          "data": {
            "text/plain": [
              "<Figure size 432x288 with 1 Axes>"
            ],
            "image/png": "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\n"
          },
          "metadata": {
            "needs_background": "light"
          }
        }
      ],
      "source": [
        "sns.histplot(data=df,x='delivery_time', kde=True) ## Complete the code to plot the histogram for the delivery time\n",
        "plt.savefig('deliverytime1.png')\n",
        "plt.show()\n",
        "sns.boxplot(data=df,x='delivery_time') ## Complete the code to plot the boxplot for the delivery time\n",
        "plt.savefig('deliverytime2.png')\n",
        "plt.show()"
      ]
    },
    {
      "cell_type": "markdown",
      "metadata": {
        "id": "HMwsI8f32rdM"
      },
      "source": [
        "### **Question 7:** Which are the top 5 restaurants in terms of the number of orders received? [1 mark]"
      ]
    },
    {
      "cell_type": "code",
      "execution_count": null,
      "metadata": {
        "id": "OLQISNlc2rdM",
        "colab": {
          "base_uri": "https://localhost:8080/"
        },
        "outputId": "943f3e80-94c0-44b2-f41a-9f43eea7a838"
      },
      "outputs": [
        {
          "output_type": "stream",
          "name": "stdout",
          "text": [
            "                            order_id  customer_id  cost_of_the_order  \\\n",
            "restaurant_name                                                        \n",
            "Shake Shack                323578315     41827816            3579.53   \n",
            "The Meatball Shop          195029322     20650082            2145.21   \n",
            "Blue Ribbon Sushi          175813497     19453411            1903.95   \n",
            "Blue Ribbon Fried Chicken  141840344     17671001            1662.29   \n",
            "Parm                       100476245     11512165            1112.76   \n",
            "...                              ...          ...                ...   \n",
            "Klong                        1477699       302790              29.05   \n",
            "Kambi Ramen House            1477220        41249              32.93   \n",
            "Il Bambino                   1478326        82901              29.25   \n",
            "Hunan Manor                  1476706       327651               5.72   \n",
            "Lamarca Pasta                1477935       378482               9.22   \n",
            "\n",
            "                           food_preparation_time  delivery_time  order_count  \n",
            "restaurant_name                                                               \n",
            "Shake Shack                                 6120           5401          219  \n",
            "The Meatball Shop                           3588           3200          132  \n",
            "Blue Ribbon Sushi                           3323           2849          119  \n",
            "Blue Ribbon Fried Chicken                   2611           2318           96  \n",
            "Parm                                        1857           1734           68  \n",
            "...                                          ...            ...          ...  \n",
            "Klong                                         35             24            1  \n",
            "Kambi Ramen House                             35             19            1  \n",
            "Il Bambino                                    34             29            1  \n",
            "Hunan Manor                                   31             26            1  \n",
            "Lamarca Pasta                                 23             19            1  \n",
            "\n",
            "[178 rows x 6 columns]\n"
          ]
        }
      ],
      "source": [
        "# Get top 5 restaurants with highest number of orders\n",
        "df['order_count'] = 1 ## Complete the code\n",
        "top5=df.groupby(by='restaurant_name').sum()\n",
        "print(top5.sort_values(by='order_count', ascending=False))"
      ]
    },
    {
      "cell_type": "code",
      "source": [
        "top5_restaurants= df.groupby('restaurant_name').sum()[['order_count']].sort_values('order_count', ascending=False).reset_index().head(5)\n",
        "top5_restaurants"
      ],
      "metadata": {
        "colab": {
          "base_uri": "https://localhost:8080/",
          "height": 228
        },
        "id": "1-K88pUt4q1k",
        "outputId": "6b54106b-f6ce-42bf-8932-dce17918affc"
      },
      "execution_count": null,
      "outputs": [
        {
          "output_type": "execute_result",
          "data": {
            "text/plain": [
              "             restaurant_name  order_count\n",
              "0                Shake Shack          219\n",
              "1          The Meatball Shop          132\n",
              "2          Blue Ribbon Sushi          119\n",
              "3  Blue Ribbon Fried Chicken           96\n",
              "4                       Parm           68"
            ],
            "text/html": [
              "\n",
              "  <div id=\"df-1440ab2a-96e0-4b7d-b5f0-a7e1eadd14c9\">\n",
              "    <div class=\"colab-df-container\">\n",
              "      <div>\n",
              "<style scoped>\n",
              "    .dataframe tbody tr th:only-of-type {\n",
              "        vertical-align: middle;\n",
              "    }\n",
              "\n",
              "    .dataframe tbody tr th {\n",
              "        vertical-align: top;\n",
              "    }\n",
              "\n",
              "    .dataframe thead th {\n",
              "        text-align: right;\n",
              "    }\n",
              "</style>\n",
              "<table border=\"1\" class=\"dataframe\">\n",
              "  <thead>\n",
              "    <tr style=\"text-align: right;\">\n",
              "      <th></th>\n",
              "      <th>restaurant_name</th>\n",
              "      <th>order_count</th>\n",
              "    </tr>\n",
              "  </thead>\n",
              "  <tbody>\n",
              "    <tr>\n",
              "      <th>0</th>\n",
              "      <td>Shake Shack</td>\n",
              "      <td>219</td>\n",
              "    </tr>\n",
              "    <tr>\n",
              "      <th>1</th>\n",
              "      <td>The Meatball Shop</td>\n",
              "      <td>132</td>\n",
              "    </tr>\n",
              "    <tr>\n",
              "      <th>2</th>\n",
              "      <td>Blue Ribbon Sushi</td>\n",
              "      <td>119</td>\n",
              "    </tr>\n",
              "    <tr>\n",
              "      <th>3</th>\n",
              "      <td>Blue Ribbon Fried Chicken</td>\n",
              "      <td>96</td>\n",
              "    </tr>\n",
              "    <tr>\n",
              "      <th>4</th>\n",
              "      <td>Parm</td>\n",
              "      <td>68</td>\n",
              "    </tr>\n",
              "  </tbody>\n",
              "</table>\n",
              "</div>\n",
              "      <button class=\"colab-df-convert\" onclick=\"convertToInteractive('df-1440ab2a-96e0-4b7d-b5f0-a7e1eadd14c9')\"\n",
              "              title=\"Convert this dataframe to an interactive table.\"\n",
              "              style=\"display:none;\">\n",
              "        \n",
              "  <svg xmlns=\"http://www.w3.org/2000/svg\" height=\"24px\"viewBox=\"0 0 24 24\"\n",
              "       width=\"24px\">\n",
              "    <path d=\"M0 0h24v24H0V0z\" fill=\"none\"/>\n",
              "    <path d=\"M18.56 5.44l.94 2.06.94-2.06 2.06-.94-2.06-.94-.94-2.06-.94 2.06-2.06.94zm-11 1L8.5 8.5l.94-2.06 2.06-.94-2.06-.94L8.5 2.5l-.94 2.06-2.06.94zm10 10l.94 2.06.94-2.06 2.06-.94-2.06-.94-.94-2.06-.94 2.06-2.06.94z\"/><path d=\"M17.41 7.96l-1.37-1.37c-.4-.4-.92-.59-1.43-.59-.52 0-1.04.2-1.43.59L10.3 9.45l-7.72 7.72c-.78.78-.78 2.05 0 2.83L4 21.41c.39.39.9.59 1.41.59.51 0 1.02-.2 1.41-.59l7.78-7.78 2.81-2.81c.8-.78.8-2.07 0-2.86zM5.41 20L4 18.59l7.72-7.72 1.47 1.35L5.41 20z\"/>\n",
              "  </svg>\n",
              "      </button>\n",
              "      \n",
              "  <style>\n",
              "    .colab-df-container {\n",
              "      display:flex;\n",
              "      flex-wrap:wrap;\n",
              "      gap: 12px;\n",
              "    }\n",
              "\n",
              "    .colab-df-convert {\n",
              "      background-color: #E8F0FE;\n",
              "      border: none;\n",
              "      border-radius: 50%;\n",
              "      cursor: pointer;\n",
              "      display: none;\n",
              "      fill: #1967D2;\n",
              "      height: 32px;\n",
              "      padding: 0 0 0 0;\n",
              "      width: 32px;\n",
              "    }\n",
              "\n",
              "    .colab-df-convert:hover {\n",
              "      background-color: #E2EBFA;\n",
              "      box-shadow: 0px 1px 2px rgba(60, 64, 67, 0.3), 0px 1px 3px 1px rgba(60, 64, 67, 0.15);\n",
              "      fill: #174EA6;\n",
              "    }\n",
              "\n",
              "    [theme=dark] .colab-df-convert {\n",
              "      background-color: #3B4455;\n",
              "      fill: #D2E3FC;\n",
              "    }\n",
              "\n",
              "    [theme=dark] .colab-df-convert:hover {\n",
              "      background-color: #434B5C;\n",
              "      box-shadow: 0px 1px 3px 1px rgba(0, 0, 0, 0.15);\n",
              "      filter: drop-shadow(0px 1px 2px rgba(0, 0, 0, 0.3));\n",
              "      fill: #FFFFFF;\n",
              "    }\n",
              "  </style>\n",
              "\n",
              "      <script>\n",
              "        const buttonEl =\n",
              "          document.querySelector('#df-1440ab2a-96e0-4b7d-b5f0-a7e1eadd14c9 button.colab-df-convert');\n",
              "        buttonEl.style.display =\n",
              "          google.colab.kernel.accessAllowed ? 'block' : 'none';\n",
              "\n",
              "        async function convertToInteractive(key) {\n",
              "          const element = document.querySelector('#df-1440ab2a-96e0-4b7d-b5f0-a7e1eadd14c9');\n",
              "          const dataTable =\n",
              "            await google.colab.kernel.invokeFunction('convertToInteractive',\n",
              "                                                     [key], {});\n",
              "          if (!dataTable) return;\n",
              "\n",
              "          const docLinkHtml = 'Like what you see? Visit the ' +\n",
              "            '<a target=\"_blank\" href=https://colab.research.google.com/notebooks/data_table.ipynb>data table notebook</a>'\n",
              "            + ' to learn more about interactive tables.';\n",
              "          element.innerHTML = '';\n",
              "          dataTable['output_type'] = 'display_data';\n",
              "          await google.colab.output.renderOutput(dataTable, element);\n",
              "          const docLink = document.createElement('div');\n",
              "          docLink.innerHTML = docLinkHtml;\n",
              "          element.appendChild(docLink);\n",
              "        }\n",
              "      </script>\n",
              "    </div>\n",
              "  </div>\n",
              "  "
            ]
          },
          "metadata": {},
          "execution_count": 47
        }
      ]
    },
    {
      "cell_type": "code",
      "source": [
        "sns.catplot(data=top5_restaurants, x='restaurant_name', y='order_count', kind='bar');\n",
        "plt.savefig('top5.png');\n",
        "plt.xticks(rotation=60);"
      ],
      "metadata": {
        "colab": {
          "base_uri": "https://localhost:8080/",
          "height": 497
        },
        "id": "jTiBXJ6EWliL",
        "outputId": "678abe7d-c580-4580-eda6-ab451f3afbac"
      },
      "execution_count": null,
      "outputs": [
        {
          "output_type": "display_data",
          "data": {
            "text/plain": [
              "<Figure size 360x360 with 1 Axes>"
            ],
            "image/png": "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\n"
          },
          "metadata": {
            "needs_background": "light"
          }
        }
      ]
    },
    {
      "cell_type": "markdown",
      "metadata": {
        "id": "OV26KAC42rdN"
      },
      "source": [
        "### **Question 8:** Which is the most popular cuisine on weekends? [1 mark]"
      ]
    },
    {
      "cell_type": "code",
      "execution_count": null,
      "metadata": {
        "id": "BqL62Kuu2rdN",
        "colab": {
          "base_uri": "https://localhost:8080/"
        },
        "outputId": "7cb6433c-ebff-4ace-9131-b1e2a31866e2"
      },
      "outputs": [
        {
          "output_type": "execute_result",
          "data": {
            "text/plain": [
              "American          30.717987\n",
              "Japanese          24.796447\n",
              "Italian           15.321984\n",
              "Chinese           12.065137\n",
              "Mexican            3.923020\n",
              "Indian             3.626943\n",
              "Mediterranean      2.368616\n",
              "Middle Eastern     2.368616\n",
              "Thai               1.110289\n",
              "French             0.962250\n",
              "Korean             0.814212\n",
              "Southern           0.814212\n",
              "Spanish            0.814212\n",
              "Vietnamese         0.296077\n",
              "Name: cuisine_type, dtype: float64"
            ]
          },
          "metadata": {},
          "execution_count": 156
        }
      ],
      "source": [
        "# Get most popular cuisine on weekends\n",
        "df_weekend = df[df['day_of_the_week'] == 'Weekend']\n",
        "df_weekend['cuisine_type'].value_counts(normalize=True)*100 ## Complete the code to check unique values for the cuisine type on weekend"
      ]
    },
    {
      "cell_type": "markdown",
      "metadata": {
        "id": "UPFNE6Da2rdN"
      },
      "source": [
        "### **Question 9:** What percentage of the orders cost more than 20 dollars? [2 marks]\n"
      ]
    },
    {
      "cell_type": "code",
      "execution_count": null,
      "metadata": {
        "id": "gHlH53rJ2rdN",
        "colab": {
          "base_uri": "https://localhost:8080/"
        },
        "outputId": "c2ddd842-4682-4371-9211-072770b6f097"
      },
      "outputs": [
        {
          "output_type": "stream",
          "name": "stdout",
          "text": [
            "The number of total orders that cost above 20 dollars is: 555\n",
            "Percentage of orders above 20 dollars: 29.24 %\n"
          ]
        }
      ],
      "source": [
        "# Get orders that cost above 20 dollars\n",
        "df_greater_than_20 = df[df['cost_of_the_order']>20] ## Write the appropriate column name to get the orders having cost above $20\n",
        "\n",
        "# Calculate the number of total orders where the cost is above 20 dollars\n",
        "print('The number of total orders that cost above 20 dollars is:', df_greater_than_20.shape[0])\n",
        "\n",
        "# Calculate percentage of such orders in the dataset\n",
        "percentage = (df_greater_than_20.shape[0] / df.shape[0]) * 100\n",
        "\n",
        "print(\"Percentage of orders above 20 dollars:\", round(percentage, 2), '%')"
      ]
    },
    {
      "cell_type": "markdown",
      "metadata": {
        "id": "rmOXTij42rdN"
      },
      "source": [
        "### **Question 10:** What is the mean order delivery time? [1 mark]"
      ]
    },
    {
      "cell_type": "code",
      "execution_count": null,
      "metadata": {
        "id": "733fsOoO2rdN",
        "colab": {
          "base_uri": "https://localhost:8080/"
        },
        "outputId": "32ebe616-3d59-49b4-f9b2-802a8597a577"
      },
      "outputs": [
        {
          "output_type": "stream",
          "name": "stdout",
          "text": [
            "The mean delivery time for this dataset is 24.16 minutes\n"
          ]
        }
      ],
      "source": [
        "# Get the mean delivery time\n",
        "mean_del_time = df['delivery_time'].mean()  ## Write the appropriate function to obtain the mean delivery time\n",
        "\n",
        "print('The mean delivery time for this dataset is', round(mean_del_time, 2), 'minutes')"
      ]
    },
    {
      "cell_type": "markdown",
      "metadata": {
        "id": "7C_G-BEy2rdO"
      },
      "source": [
        "### **Question 11:** The company has decided to give 20% discount vouchers to the top 3 most frequent customers. Find the IDs of these customers and the number of orders they placed. [1 mark]"
      ]
    },
    {
      "cell_type": "code",
      "execution_count": null,
      "metadata": {
        "id": "U-husHb6F5lY",
        "colab": {
          "base_uri": "https://localhost:8080/"
        },
        "outputId": "572e86db-5b7a-4b1e-c026-1845c81d33b5"
      },
      "outputs": [
        {
          "output_type": "execute_result",
          "data": {
            "text/plain": [
              "52832     13\n",
              "47440     10\n",
              "83287      9\n",
              "250494     8\n",
              "259341     7\n",
              "Name: customer_id, dtype: int64"
            ]
          },
          "metadata": {},
          "execution_count": 101
        }
      ],
      "source": [
        "# Get the counts of  each customer_id\n",
        "df['customer_id'].value_counts().head(5)  ## Write the appropriate column name to get the top 5 cmost frequent customers"
      ]
    },
    {
      "cell_type": "code",
      "source": [
        "top5_customers= df.groupby('customer_id').sum()[['order_count']].sort_values('order_count', ascending=False).reset_index().head(5)\n",
        "top5_customers"
      ],
      "metadata": {
        "colab": {
          "base_uri": "https://localhost:8080/",
          "height": 228
        },
        "id": "Gxyz6xGezLpQ",
        "outputId": "78c14b3b-9b97-466f-81d3-3c02aa2a90d3"
      },
      "execution_count": null,
      "outputs": [
        {
          "output_type": "execute_result",
          "data": {
            "text/plain": [
              "   customer_id  order_count\n",
              "0        52832           13\n",
              "1        47440           10\n",
              "2        83287            9\n",
              "3       250494            8\n",
              "4        65009            7"
            ],
            "text/html": [
              "\n",
              "  <div id=\"df-168af137-d51b-439a-8d7f-0f65c04c9dee\">\n",
              "    <div class=\"colab-df-container\">\n",
              "      <div>\n",
              "<style scoped>\n",
              "    .dataframe tbody tr th:only-of-type {\n",
              "        vertical-align: middle;\n",
              "    }\n",
              "\n",
              "    .dataframe tbody tr th {\n",
              "        vertical-align: top;\n",
              "    }\n",
              "\n",
              "    .dataframe thead th {\n",
              "        text-align: right;\n",
              "    }\n",
              "</style>\n",
              "<table border=\"1\" class=\"dataframe\">\n",
              "  <thead>\n",
              "    <tr style=\"text-align: right;\">\n",
              "      <th></th>\n",
              "      <th>customer_id</th>\n",
              "      <th>order_count</th>\n",
              "    </tr>\n",
              "  </thead>\n",
              "  <tbody>\n",
              "    <tr>\n",
              "      <th>0</th>\n",
              "      <td>52832</td>\n",
              "      <td>13</td>\n",
              "    </tr>\n",
              "    <tr>\n",
              "      <th>1</th>\n",
              "      <td>47440</td>\n",
              "      <td>10</td>\n",
              "    </tr>\n",
              "    <tr>\n",
              "      <th>2</th>\n",
              "      <td>83287</td>\n",
              "      <td>9</td>\n",
              "    </tr>\n",
              "    <tr>\n",
              "      <th>3</th>\n",
              "      <td>250494</td>\n",
              "      <td>8</td>\n",
              "    </tr>\n",
              "    <tr>\n",
              "      <th>4</th>\n",
              "      <td>65009</td>\n",
              "      <td>7</td>\n",
              "    </tr>\n",
              "  </tbody>\n",
              "</table>\n",
              "</div>\n",
              "      <button class=\"colab-df-convert\" onclick=\"convertToInteractive('df-168af137-d51b-439a-8d7f-0f65c04c9dee')\"\n",
              "              title=\"Convert this dataframe to an interactive table.\"\n",
              "              style=\"display:none;\">\n",
              "        \n",
              "  <svg xmlns=\"http://www.w3.org/2000/svg\" height=\"24px\"viewBox=\"0 0 24 24\"\n",
              "       width=\"24px\">\n",
              "    <path d=\"M0 0h24v24H0V0z\" fill=\"none\"/>\n",
              "    <path d=\"M18.56 5.44l.94 2.06.94-2.06 2.06-.94-2.06-.94-.94-2.06-.94 2.06-2.06.94zm-11 1L8.5 8.5l.94-2.06 2.06-.94-2.06-.94L8.5 2.5l-.94 2.06-2.06.94zm10 10l.94 2.06.94-2.06 2.06-.94-2.06-.94-.94-2.06-.94 2.06-2.06.94z\"/><path d=\"M17.41 7.96l-1.37-1.37c-.4-.4-.92-.59-1.43-.59-.52 0-1.04.2-1.43.59L10.3 9.45l-7.72 7.72c-.78.78-.78 2.05 0 2.83L4 21.41c.39.39.9.59 1.41.59.51 0 1.02-.2 1.41-.59l7.78-7.78 2.81-2.81c.8-.78.8-2.07 0-2.86zM5.41 20L4 18.59l7.72-7.72 1.47 1.35L5.41 20z\"/>\n",
              "  </svg>\n",
              "      </button>\n",
              "      \n",
              "  <style>\n",
              "    .colab-df-container {\n",
              "      display:flex;\n",
              "      flex-wrap:wrap;\n",
              "      gap: 12px;\n",
              "    }\n",
              "\n",
              "    .colab-df-convert {\n",
              "      background-color: #E8F0FE;\n",
              "      border: none;\n",
              "      border-radius: 50%;\n",
              "      cursor: pointer;\n",
              "      display: none;\n",
              "      fill: #1967D2;\n",
              "      height: 32px;\n",
              "      padding: 0 0 0 0;\n",
              "      width: 32px;\n",
              "    }\n",
              "\n",
              "    .colab-df-convert:hover {\n",
              "      background-color: #E2EBFA;\n",
              "      box-shadow: 0px 1px 2px rgba(60, 64, 67, 0.3), 0px 1px 3px 1px rgba(60, 64, 67, 0.15);\n",
              "      fill: #174EA6;\n",
              "    }\n",
              "\n",
              "    [theme=dark] .colab-df-convert {\n",
              "      background-color: #3B4455;\n",
              "      fill: #D2E3FC;\n",
              "    }\n",
              "\n",
              "    [theme=dark] .colab-df-convert:hover {\n",
              "      background-color: #434B5C;\n",
              "      box-shadow: 0px 1px 3px 1px rgba(0, 0, 0, 0.15);\n",
              "      filter: drop-shadow(0px 1px 2px rgba(0, 0, 0, 0.3));\n",
              "      fill: #FFFFFF;\n",
              "    }\n",
              "  </style>\n",
              "\n",
              "      <script>\n",
              "        const buttonEl =\n",
              "          document.querySelector('#df-168af137-d51b-439a-8d7f-0f65c04c9dee button.colab-df-convert');\n",
              "        buttonEl.style.display =\n",
              "          google.colab.kernel.accessAllowed ? 'block' : 'none';\n",
              "\n",
              "        async function convertToInteractive(key) {\n",
              "          const element = document.querySelector('#df-168af137-d51b-439a-8d7f-0f65c04c9dee');\n",
              "          const dataTable =\n",
              "            await google.colab.kernel.invokeFunction('convertToInteractive',\n",
              "                                                     [key], {});\n",
              "          if (!dataTable) return;\n",
              "\n",
              "          const docLinkHtml = 'Like what you see? Visit the ' +\n",
              "            '<a target=\"_blank\" href=https://colab.research.google.com/notebooks/data_table.ipynb>data table notebook</a>'\n",
              "            + ' to learn more about interactive tables.';\n",
              "          element.innerHTML = '';\n",
              "          dataTable['output_type'] = 'display_data';\n",
              "          await google.colab.output.renderOutput(dataTable, element);\n",
              "          const docLink = document.createElement('div');\n",
              "          docLink.innerHTML = docLinkHtml;\n",
              "          element.appendChild(docLink);\n",
              "        }\n",
              "      </script>\n",
              "    </div>\n",
              "  </div>\n",
              "  "
            ]
          },
          "metadata": {},
          "execution_count": 103
        }
      ]
    },
    {
      "cell_type": "code",
      "source": [
        "sns.catplot(data=top5_customers, x='customer_id', y='order_count', kind='bar');\n",
        "plt.savefig('top5customer.png');\n",
        "plt.xticks(rotation=60);"
      ],
      "metadata": {
        "colab": {
          "base_uri": "https://localhost:8080/",
          "height": 417
        },
        "id": "6_SaTJd5y4-c",
        "outputId": "082eb11d-0de1-483e-fb6a-290a43f731e8"
      },
      "execution_count": null,
      "outputs": [
        {
          "output_type": "display_data",
          "data": {
            "text/plain": [
              "<Figure size 360x360 with 1 Axes>"
            ],
            "image/png": "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\n"
          },
          "metadata": {
            "needs_background": "light"
          }
        }
      ]
    },
    {
      "cell_type": "markdown",
      "metadata": {
        "id": "4ceeYAVy2rdO"
      },
      "source": [
        "### Multivariate Analysis"
      ]
    },
    {
      "cell_type": "markdown",
      "metadata": {
        "id": "h-gdOXrS2rdO"
      },
      "source": [
        "### **Question 12:** Perform a multivariate analysis to explore relationships between the important variables in the dataset. (It is a good idea to explore relations between numerical variables as well as relations between numerical and categorical variables) [10 marks]"
      ]
    },
    {
      "cell_type": "markdown",
      "metadata": {
        "id": "sTYfSbdR2rdO"
      },
      "source": [
        "#### Cuisine vs Cost of the order"
      ]
    },
    {
      "cell_type": "code",
      "execution_count": null,
      "metadata": {
        "id": "wzJpBxZQ2rdP",
        "colab": {
          "base_uri": "https://localhost:8080/",
          "height": 524
        },
        "outputId": "57fbc3c6-360a-4f11-c9a9-204750c923e3"
      },
      "outputs": [
        {
          "output_type": "display_data",
          "data": {
            "text/plain": [
              "<Figure size 1080x504 with 1 Axes>"
            ],
            "image/png": "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\n"
          },
          "metadata": {
            "needs_background": "light"
          }
        }
      ],
      "source": [
        "# Relationship between cost of the order and cuisine type\n",
        "plt.figure(figsize=(15,7))\n",
        "sns.boxplot(x = \"cuisine_type\", y = \"cost_of_the_order\", data = df, palette = 'PuBu')\n",
        "plt.xticks(rotation = 60)\n",
        "plt.savefig('covscuty.png')\n",
        "plt.show()"
      ]
    },
    {
      "cell_type": "markdown",
      "metadata": {
        "id": "cmf4oTiB2rdQ"
      },
      "source": [
        "#### Cuisine vs Food Preparation time"
      ]
    },
    {
      "cell_type": "code",
      "execution_count": null,
      "metadata": {
        "id": "cfeDWTgN2rdQ",
        "scrolled": true,
        "colab": {
          "base_uri": "https://localhost:8080/",
          "height": 524
        },
        "outputId": "6fea0d11-9822-4676-9c49-e97c863487ad"
      },
      "outputs": [
        {
          "output_type": "display_data",
          "data": {
            "text/plain": [
              "<Figure size 1080x504 with 1 Axes>"
            ],
            "image/png": "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\n"
          },
          "metadata": {
            "needs_background": "light"
          }
        }
      ],
      "source": [
        "# Relationship between food preparation time and cuisine type\n",
        "plt.figure(figsize=(15,7))\n",
        "sns.boxplot(data=df, x='cuisine_type', y='food_preparation_time', palette='icefire')  ## Complete the code to visualize the relationship between food preparation time and cuisine type using boxplot\n",
        "plt.xticks(rotation = 60)\n",
        "plt.savefig('foodvscui.png')\n",
        "plt.show()"
      ]
    },
    {
      "cell_type": "markdown",
      "metadata": {
        "id": "28L5vjZw2rdQ"
      },
      "source": [
        "#### Day of the Week vs Delivery time"
      ]
    },
    {
      "cell_type": "code",
      "execution_count": null,
      "metadata": {
        "id": "fG3QyQ452rdQ",
        "scrolled": true,
        "colab": {
          "base_uri": "https://localhost:8080/",
          "height": 464
        },
        "outputId": "17d7b41e-f306-4204-f5c8-1c0d5feca8c3"
      },
      "outputs": [
        {
          "output_type": "display_data",
          "data": {
            "text/plain": [
              "<Figure size 1080x504 with 1 Axes>"
            ],
            "image/png": "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\n"
          },
          "metadata": {
            "needs_background": "light"
          }
        }
      ],
      "source": [
        "# Relationship between day of the week and delivery time\n",
        "plt.figure(figsize=(15,7))\n",
        "sns.boxplot(data=df, x='day_of_the_week', y='delivery_time', palette='PuBu')  ## Complete the code to visualize the relationship between day of the week and delivery time using boxplot\n",
        "plt.savefig('dayvsdel.png')\n",
        "plt.show()"
      ]
    },
    {
      "cell_type": "markdown",
      "metadata": {
        "id": "UnppMp022rdQ"
      },
      "source": [
        "#### Run the below code and write your observations on the revenue generated by the restaurants."
      ]
    },
    {
      "cell_type": "code",
      "execution_count": null,
      "metadata": {
        "id": "LaDfuzIt2rdR",
        "scrolled": false,
        "colab": {
          "base_uri": "https://localhost:8080/"
        },
        "outputId": "78470e6e-947f-42bd-bce6-02db051e405f"
      },
      "outputs": [
        {
          "output_type": "execute_result",
          "data": {
            "text/plain": [
              "restaurant_name\n",
              "Shake Shack                      3579.53\n",
              "The Meatball Shop                2145.21\n",
              "Blue Ribbon Sushi                1903.95\n",
              "Blue Ribbon Fried Chicken        1662.29\n",
              "Parm                             1112.76\n",
              "RedFarm Broadway                  965.13\n",
              "RedFarm Hudson                    921.21\n",
              "TAO                               834.50\n",
              "Han Dynasty                       755.29\n",
              "Blue Ribbon Sushi Bar & Grill     666.62\n",
              "Rubirosa                          660.45\n",
              "Sushi of Gari 46                  640.87\n",
              "Nobu Next Door                    623.67\n",
              "Five Guys Burgers and Fries       506.47\n",
              "Name: cost_of_the_order, dtype: float64"
            ]
          },
          "metadata": {},
          "execution_count": 33
        }
      ],
      "source": [
        "df.groupby(['restaurant_name'])['cost_of_the_order'].sum().sort_values(ascending = False).head(14)"
      ]
    },
    {
      "cell_type": "markdown",
      "metadata": {
        "id": "lu0o5GkQ2rdR"
      },
      "source": [
        "#### Rating vs Delivery time"
      ]
    },
    {
      "cell_type": "code",
      "execution_count": null,
      "metadata": {
        "id": "NoBGHlPR2rdR",
        "scrolled": true,
        "colab": {
          "base_uri": "https://localhost:8080/",
          "height": 462
        },
        "outputId": "70d62bfd-f9f8-4e73-a3df-56fd45ae7af0"
      },
      "outputs": [
        {
          "output_type": "display_data",
          "data": {
            "text/plain": [
              "<Figure size 1080x504 with 1 Axes>"
            ],
            "image/png": "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\n"
          },
          "metadata": {
            "needs_background": "light"
          }
        }
      ],
      "source": [
        "from pandas.core.computation.pytables import Any\n",
        "# Relationship between rating and delivery time\n",
        "plt.figure(figsize=(15, 7))\n",
        "sns.pointplot(x = 'rating', y = 'delivery_time', data = df, ci=None)\n",
        "plt.savefig('ratvsdel.png')\n",
        "plt.show()"
      ]
    },
    {
      "cell_type": "markdown",
      "metadata": {
        "id": "EUW_xUEK2rdR"
      },
      "source": [
        "#### Rating vs Food preparation time"
      ]
    },
    {
      "cell_type": "code",
      "execution_count": null,
      "metadata": {
        "id": "d7qzVLdE2rdR",
        "scrolled": true,
        "colab": {
          "base_uri": "https://localhost:8080/",
          "height": 462
        },
        "outputId": "d8e95c75-8908-4874-9473-b2ce0255f609"
      },
      "outputs": [
        {
          "output_type": "display_data",
          "data": {
            "text/plain": [
              "<Figure size 1080x504 with 1 Axes>"
            ],
            "image/png": "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\n"
          },
          "metadata": {
            "needs_background": "light"
          }
        }
      ],
      "source": [
        "# Relationship between rating and food preparation time\n",
        "plt.figure(figsize=(15, 7))\n",
        "sns.pointplot(x='rating', y='food_preparation_time', data=df, ci=None)  ## Complete the code to visualize the relationship between rating and food preparation time using pointplot\n",
        "plt.savefig('ratvsfood.png')\n",
        "plt.show()"
      ]
    },
    {
      "cell_type": "markdown",
      "metadata": {
        "id": "x1xcxS6h2rdS"
      },
      "source": [
        "#### Rating vs Cost of the order"
      ]
    },
    {
      "cell_type": "code",
      "execution_count": null,
      "metadata": {
        "id": "QV1lg0_72rdS",
        "colab": {
          "base_uri": "https://localhost:8080/",
          "height": 464
        },
        "outputId": "5ad5f757-cd4f-4832-aed9-a432e2a91362"
      },
      "outputs": [
        {
          "output_type": "display_data",
          "data": {
            "text/plain": [
              "<Figure size 1080x504 with 1 Axes>"
            ],
            "image/png": "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\n"
          },
          "metadata": {
            "needs_background": "light"
          }
        }
      ],
      "source": [
        "# Relationship between rating and cost of the order\n",
        "plt.figure(figsize=(15, 7))\n",
        "sns.pointplot(data=df, x='rating', y='cost_of_the_order', ci=None)   ## Complete the code to visualize the relationship between rating and cost of the order using pointplot\n",
        "plt.savefig('ratvscost.png')\n",
        "plt.show()"
      ]
    },
    {
      "cell_type": "markdown",
      "metadata": {
        "id": "N1ATzdSX2rdS"
      },
      "source": [
        "#### Correlation among variables"
      ]
    },
    {
      "cell_type": "code",
      "execution_count": null,
      "metadata": {
        "id": "I4yA0y032rdS",
        "scrolled": true,
        "colab": {
          "base_uri": "https://localhost:8080/",
          "height": 453
        },
        "outputId": "26676bfa-ab38-4297-bc61-366fb865a3bd"
      },
      "outputs": [
        {
          "output_type": "display_data",
          "data": {
            "text/plain": [
              "<Figure size 1080x504 with 2 Axes>"
            ],
            "image/png": "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\n"
          },
          "metadata": {
            "needs_background": "light"
          }
        }
      ],
      "source": [
        "# Plot the heatmap\n",
        "col_list = ['cost_of_the_order', 'food_preparation_time', 'delivery_time', 'order_id']\n",
        "plt.figure(figsize=(15, 7))\n",
        "sns.heatmap(df[col_list].corr(), annot=True, vmin=-1, vmax=1, fmt=\".2f\", cmap=\"Spectral\")\n",
        "plt.savefig('corr.png')\n",
        "plt.show()"
      ]
    },
    {
      "cell_type": "code",
      "source": [
        "df.corr()"
      ],
      "metadata": {
        "colab": {
          "base_uri": "https://localhost:8080/",
          "height": 260
        },
        "id": "MLwI7cH-3dir",
        "outputId": "2979d3fa-4fda-4ae0-a0bf-1991da0c44ae"
      },
      "execution_count": null,
      "outputs": [
        {
          "output_type": "execute_result",
          "data": {
            "text/plain": [
              "                       order_id  customer_id  cost_of_the_order  \\\n",
              "order_id               1.000000    -0.013960           0.021171   \n",
              "customer_id           -0.013960     1.000000          -0.001322   \n",
              "cost_of_the_order      0.021171    -0.001322           1.000000   \n",
              "food_preparation_time -0.007026    -0.030330           0.041527   \n",
              "delivery_time          0.009690    -0.009885          -0.029949   \n",
              "order_count                 NaN          NaN                NaN   \n",
              "\n",
              "                       food_preparation_time  delivery_time  order_count  \n",
              "order_id                           -0.007026       0.009690          NaN  \n",
              "customer_id                        -0.030330      -0.009885          NaN  \n",
              "cost_of_the_order                   0.041527      -0.029949          NaN  \n",
              "food_preparation_time               1.000000       0.011094          NaN  \n",
              "delivery_time                       0.011094       1.000000          NaN  \n",
              "order_count                              NaN            NaN          NaN  "
            ],
            "text/html": [
              "\n",
              "  <div id=\"df-1193b71b-d6d7-4e55-94e8-e077248ebfe2\">\n",
              "    <div class=\"colab-df-container\">\n",
              "      <div>\n",
              "<style scoped>\n",
              "    .dataframe tbody tr th:only-of-type {\n",
              "        vertical-align: middle;\n",
              "    }\n",
              "\n",
              "    .dataframe tbody tr th {\n",
              "        vertical-align: top;\n",
              "    }\n",
              "\n",
              "    .dataframe thead th {\n",
              "        text-align: right;\n",
              "    }\n",
              "</style>\n",
              "<table border=\"1\" class=\"dataframe\">\n",
              "  <thead>\n",
              "    <tr style=\"text-align: right;\">\n",
              "      <th></th>\n",
              "      <th>order_id</th>\n",
              "      <th>customer_id</th>\n",
              "      <th>cost_of_the_order</th>\n",
              "      <th>food_preparation_time</th>\n",
              "      <th>delivery_time</th>\n",
              "      <th>order_count</th>\n",
              "    </tr>\n",
              "  </thead>\n",
              "  <tbody>\n",
              "    <tr>\n",
              "      <th>order_id</th>\n",
              "      <td>1.000000</td>\n",
              "      <td>-0.013960</td>\n",
              "      <td>0.021171</td>\n",
              "      <td>-0.007026</td>\n",
              "      <td>0.009690</td>\n",
              "      <td>NaN</td>\n",
              "    </tr>\n",
              "    <tr>\n",
              "      <th>customer_id</th>\n",
              "      <td>-0.013960</td>\n",
              "      <td>1.000000</td>\n",
              "      <td>-0.001322</td>\n",
              "      <td>-0.030330</td>\n",
              "      <td>-0.009885</td>\n",
              "      <td>NaN</td>\n",
              "    </tr>\n",
              "    <tr>\n",
              "      <th>cost_of_the_order</th>\n",
              "      <td>0.021171</td>\n",
              "      <td>-0.001322</td>\n",
              "      <td>1.000000</td>\n",
              "      <td>0.041527</td>\n",
              "      <td>-0.029949</td>\n",
              "      <td>NaN</td>\n",
              "    </tr>\n",
              "    <tr>\n",
              "      <th>food_preparation_time</th>\n",
              "      <td>-0.007026</td>\n",
              "      <td>-0.030330</td>\n",
              "      <td>0.041527</td>\n",
              "      <td>1.000000</td>\n",
              "      <td>0.011094</td>\n",
              "      <td>NaN</td>\n",
              "    </tr>\n",
              "    <tr>\n",
              "      <th>delivery_time</th>\n",
              "      <td>0.009690</td>\n",
              "      <td>-0.009885</td>\n",
              "      <td>-0.029949</td>\n",
              "      <td>0.011094</td>\n",
              "      <td>1.000000</td>\n",
              "      <td>NaN</td>\n",
              "    </tr>\n",
              "    <tr>\n",
              "      <th>order_count</th>\n",
              "      <td>NaN</td>\n",
              "      <td>NaN</td>\n",
              "      <td>NaN</td>\n",
              "      <td>NaN</td>\n",
              "      <td>NaN</td>\n",
              "      <td>NaN</td>\n",
              "    </tr>\n",
              "  </tbody>\n",
              "</table>\n",
              "</div>\n",
              "      <button class=\"colab-df-convert\" onclick=\"convertToInteractive('df-1193b71b-d6d7-4e55-94e8-e077248ebfe2')\"\n",
              "              title=\"Convert this dataframe to an interactive table.\"\n",
              "              style=\"display:none;\">\n",
              "        \n",
              "  <svg xmlns=\"http://www.w3.org/2000/svg\" height=\"24px\"viewBox=\"0 0 24 24\"\n",
              "       width=\"24px\">\n",
              "    <path d=\"M0 0h24v24H0V0z\" fill=\"none\"/>\n",
              "    <path d=\"M18.56 5.44l.94 2.06.94-2.06 2.06-.94-2.06-.94-.94-2.06-.94 2.06-2.06.94zm-11 1L8.5 8.5l.94-2.06 2.06-.94-2.06-.94L8.5 2.5l-.94 2.06-2.06.94zm10 10l.94 2.06.94-2.06 2.06-.94-2.06-.94-.94-2.06-.94 2.06-2.06.94z\"/><path d=\"M17.41 7.96l-1.37-1.37c-.4-.4-.92-.59-1.43-.59-.52 0-1.04.2-1.43.59L10.3 9.45l-7.72 7.72c-.78.78-.78 2.05 0 2.83L4 21.41c.39.39.9.59 1.41.59.51 0 1.02-.2 1.41-.59l7.78-7.78 2.81-2.81c.8-.78.8-2.07 0-2.86zM5.41 20L4 18.59l7.72-7.72 1.47 1.35L5.41 20z\"/>\n",
              "  </svg>\n",
              "      </button>\n",
              "      \n",
              "  <style>\n",
              "    .colab-df-container {\n",
              "      display:flex;\n",
              "      flex-wrap:wrap;\n",
              "      gap: 12px;\n",
              "    }\n",
              "\n",
              "    .colab-df-convert {\n",
              "      background-color: #E8F0FE;\n",
              "      border: none;\n",
              "      border-radius: 50%;\n",
              "      cursor: pointer;\n",
              "      display: none;\n",
              "      fill: #1967D2;\n",
              "      height: 32px;\n",
              "      padding: 0 0 0 0;\n",
              "      width: 32px;\n",
              "    }\n",
              "\n",
              "    .colab-df-convert:hover {\n",
              "      background-color: #E2EBFA;\n",
              "      box-shadow: 0px 1px 2px rgba(60, 64, 67, 0.3), 0px 1px 3px 1px rgba(60, 64, 67, 0.15);\n",
              "      fill: #174EA6;\n",
              "    }\n",
              "\n",
              "    [theme=dark] .colab-df-convert {\n",
              "      background-color: #3B4455;\n",
              "      fill: #D2E3FC;\n",
              "    }\n",
              "\n",
              "    [theme=dark] .colab-df-convert:hover {\n",
              "      background-color: #434B5C;\n",
              "      box-shadow: 0px 1px 3px 1px rgba(0, 0, 0, 0.15);\n",
              "      filter: drop-shadow(0px 1px 2px rgba(0, 0, 0, 0.3));\n",
              "      fill: #FFFFFF;\n",
              "    }\n",
              "  </style>\n",
              "\n",
              "      <script>\n",
              "        const buttonEl =\n",
              "          document.querySelector('#df-1193b71b-d6d7-4e55-94e8-e077248ebfe2 button.colab-df-convert');\n",
              "        buttonEl.style.display =\n",
              "          google.colab.kernel.accessAllowed ? 'block' : 'none';\n",
              "\n",
              "        async function convertToInteractive(key) {\n",
              "          const element = document.querySelector('#df-1193b71b-d6d7-4e55-94e8-e077248ebfe2');\n",
              "          const dataTable =\n",
              "            await google.colab.kernel.invokeFunction('convertToInteractive',\n",
              "                                                     [key], {});\n",
              "          if (!dataTable) return;\n",
              "\n",
              "          const docLinkHtml = 'Like what you see? Visit the ' +\n",
              "            '<a target=\"_blank\" href=https://colab.research.google.com/notebooks/data_table.ipynb>data table notebook</a>'\n",
              "            + ' to learn more about interactive tables.';\n",
              "          element.innerHTML = '';\n",
              "          dataTable['output_type'] = 'display_data';\n",
              "          await google.colab.output.renderOutput(dataTable, element);\n",
              "          const docLink = document.createElement('div');\n",
              "          docLink.innerHTML = docLinkHtml;\n",
              "          element.appendChild(docLink);\n",
              "        }\n",
              "      </script>\n",
              "    </div>\n",
              "  </div>\n",
              "  "
            ]
          },
          "metadata": {},
          "execution_count": 123
        }
      ]
    },
    {
      "cell_type": "markdown",
      "metadata": {
        "id": "zwBb5dAq2rdS"
      },
      "source": [
        "### **Question 13:** The company wants to provide a promotional offer in the advertisement of the restaurants. The condition to get the offer is that the restaurants must have a rating count of more than 50 and the average rating should be greater than 4. Find the restaurants fulfilling the criteria to get the promotional offer. [3 marks]"
      ]
    },
    {
      "cell_type": "code",
      "execution_count": null,
      "metadata": {
        "id": "4jQUoQ812rdS",
        "scrolled": true,
        "colab": {
          "base_uri": "https://localhost:8080/",
          "height": 228
        },
        "outputId": "4082ac0a-6b24-4322-ecea-450790a8947b"
      },
      "outputs": [
        {
          "output_type": "execute_result",
          "data": {
            "text/plain": [
              "             restaurant_name  rating\n",
              "0                Shake Shack     133\n",
              "1          The Meatball Shop      84\n",
              "2          Blue Ribbon Sushi      73\n",
              "3  Blue Ribbon Fried Chicken      64\n",
              "4           RedFarm Broadway      41"
            ],
            "text/html": [
              "\n",
              "  <div id=\"df-10812253-e69f-4e4b-9850-915799d3c87b\">\n",
              "    <div class=\"colab-df-container\">\n",
              "      <div>\n",
              "<style scoped>\n",
              "    .dataframe tbody tr th:only-of-type {\n",
              "        vertical-align: middle;\n",
              "    }\n",
              "\n",
              "    .dataframe tbody tr th {\n",
              "        vertical-align: top;\n",
              "    }\n",
              "\n",
              "    .dataframe thead th {\n",
              "        text-align: right;\n",
              "    }\n",
              "</style>\n",
              "<table border=\"1\" class=\"dataframe\">\n",
              "  <thead>\n",
              "    <tr style=\"text-align: right;\">\n",
              "      <th></th>\n",
              "      <th>restaurant_name</th>\n",
              "      <th>rating</th>\n",
              "    </tr>\n",
              "  </thead>\n",
              "  <tbody>\n",
              "    <tr>\n",
              "      <th>0</th>\n",
              "      <td>Shake Shack</td>\n",
              "      <td>133</td>\n",
              "    </tr>\n",
              "    <tr>\n",
              "      <th>1</th>\n",
              "      <td>The Meatball Shop</td>\n",
              "      <td>84</td>\n",
              "    </tr>\n",
              "    <tr>\n",
              "      <th>2</th>\n",
              "      <td>Blue Ribbon Sushi</td>\n",
              "      <td>73</td>\n",
              "    </tr>\n",
              "    <tr>\n",
              "      <th>3</th>\n",
              "      <td>Blue Ribbon Fried Chicken</td>\n",
              "      <td>64</td>\n",
              "    </tr>\n",
              "    <tr>\n",
              "      <th>4</th>\n",
              "      <td>RedFarm Broadway</td>\n",
              "      <td>41</td>\n",
              "    </tr>\n",
              "  </tbody>\n",
              "</table>\n",
              "</div>\n",
              "      <button class=\"colab-df-convert\" onclick=\"convertToInteractive('df-10812253-e69f-4e4b-9850-915799d3c87b')\"\n",
              "              title=\"Convert this dataframe to an interactive table.\"\n",
              "              style=\"display:none;\">\n",
              "        \n",
              "  <svg xmlns=\"http://www.w3.org/2000/svg\" height=\"24px\"viewBox=\"0 0 24 24\"\n",
              "       width=\"24px\">\n",
              "    <path d=\"M0 0h24v24H0V0z\" fill=\"none\"/>\n",
              "    <path d=\"M18.56 5.44l.94 2.06.94-2.06 2.06-.94-2.06-.94-.94-2.06-.94 2.06-2.06.94zm-11 1L8.5 8.5l.94-2.06 2.06-.94-2.06-.94L8.5 2.5l-.94 2.06-2.06.94zm10 10l.94 2.06.94-2.06 2.06-.94-2.06-.94-.94-2.06-.94 2.06-2.06.94z\"/><path d=\"M17.41 7.96l-1.37-1.37c-.4-.4-.92-.59-1.43-.59-.52 0-1.04.2-1.43.59L10.3 9.45l-7.72 7.72c-.78.78-.78 2.05 0 2.83L4 21.41c.39.39.9.59 1.41.59.51 0 1.02-.2 1.41-.59l7.78-7.78 2.81-2.81c.8-.78.8-2.07 0-2.86zM5.41 20L4 18.59l7.72-7.72 1.47 1.35L5.41 20z\"/>\n",
              "  </svg>\n",
              "      </button>\n",
              "      \n",
              "  <style>\n",
              "    .colab-df-container {\n",
              "      display:flex;\n",
              "      flex-wrap:wrap;\n",
              "      gap: 12px;\n",
              "    }\n",
              "\n",
              "    .colab-df-convert {\n",
              "      background-color: #E8F0FE;\n",
              "      border: none;\n",
              "      border-radius: 50%;\n",
              "      cursor: pointer;\n",
              "      display: none;\n",
              "      fill: #1967D2;\n",
              "      height: 32px;\n",
              "      padding: 0 0 0 0;\n",
              "      width: 32px;\n",
              "    }\n",
              "\n",
              "    .colab-df-convert:hover {\n",
              "      background-color: #E2EBFA;\n",
              "      box-shadow: 0px 1px 2px rgba(60, 64, 67, 0.3), 0px 1px 3px 1px rgba(60, 64, 67, 0.15);\n",
              "      fill: #174EA6;\n",
              "    }\n",
              "\n",
              "    [theme=dark] .colab-df-convert {\n",
              "      background-color: #3B4455;\n",
              "      fill: #D2E3FC;\n",
              "    }\n",
              "\n",
              "    [theme=dark] .colab-df-convert:hover {\n",
              "      background-color: #434B5C;\n",
              "      box-shadow: 0px 1px 3px 1px rgba(0, 0, 0, 0.15);\n",
              "      filter: drop-shadow(0px 1px 2px rgba(0, 0, 0, 0.3));\n",
              "      fill: #FFFFFF;\n",
              "    }\n",
              "  </style>\n",
              "\n",
              "      <script>\n",
              "        const buttonEl =\n",
              "          document.querySelector('#df-10812253-e69f-4e4b-9850-915799d3c87b button.colab-df-convert');\n",
              "        buttonEl.style.display =\n",
              "          google.colab.kernel.accessAllowed ? 'block' : 'none';\n",
              "\n",
              "        async function convertToInteractive(key) {\n",
              "          const element = document.querySelector('#df-10812253-e69f-4e4b-9850-915799d3c87b');\n",
              "          const dataTable =\n",
              "            await google.colab.kernel.invokeFunction('convertToInteractive',\n",
              "                                                     [key], {});\n",
              "          if (!dataTable) return;\n",
              "\n",
              "          const docLinkHtml = 'Like what you see? Visit the ' +\n",
              "            '<a target=\"_blank\" href=https://colab.research.google.com/notebooks/data_table.ipynb>data table notebook</a>'\n",
              "            + ' to learn more about interactive tables.';\n",
              "          element.innerHTML = '';\n",
              "          dataTable['output_type'] = 'display_data';\n",
              "          await google.colab.output.renderOutput(dataTable, element);\n",
              "          const docLink = document.createElement('div');\n",
              "          docLink.innerHTML = docLinkHtml;\n",
              "          element.appendChild(docLink);\n",
              "        }\n",
              "      </script>\n",
              "    </div>\n",
              "  </div>\n",
              "  "
            ]
          },
          "metadata": {},
          "execution_count": 146
        }
      ],
      "source": [
        "# Filter the rated restaurants\n",
        "df_rated = df[df['rating'] != 'Not given'].copy()\n",
        "\n",
        "# Convert rating column from object to integer\n",
        "df_rated['rating'] = df_rated['rating'].astype('int')\n",
        "\n",
        "# Create a dataframe that contains the restaurant names with their rating counts\n",
        "df_rating_count = df_rated.groupby(['restaurant_name'])['rating'].count().sort_values(ascending = False).reset_index()\n",
        "df_rating_count.head()"
      ]
    },
    {
      "cell_type": "code",
      "execution_count": null,
      "metadata": {
        "id": "VLdgfwoL2rdT",
        "colab": {
          "base_uri": "https://localhost:8080/"
        },
        "outputId": "eb2e394e-9c89-40dc-bab8-21e1c263ee91"
      },
      "outputs": [
        {
          "output_type": "execute_result",
          "data": {
            "text/plain": [
              "0                  Shake Shack\n",
              "1            The Meatball Shop\n",
              "2            Blue Ribbon Sushi\n",
              "3    Blue Ribbon Fried Chicken\n",
              "Name: restaurant_name, dtype: object"
            ]
          },
          "metadata": {},
          "execution_count": 150
        }
      ],
      "source": [
        "# Get the restaurant names that have rating count more than 50\n",
        "rest_names = df_rating_count[df_rating_count['rating']>50]['restaurant_name'] ## Complete the code to get the restaurant names having rating count more than 50\n",
        "rest_names"
      ]
    },
    {
      "cell_type": "code",
      "source": [
        "# Filter to get the data of restaurants that have rating count more than 50\n",
        "df_mean_4 = df_rated[df_rated['restaurant_name'].isin(rest_names)].copy()\n",
        "df_mean_4"
      ],
      "metadata": {
        "colab": {
          "base_uri": "https://localhost:8080/",
          "height": 526
        },
        "id": "ASxoCp0DDIk5",
        "outputId": "842a4107-2ef2-4607-ef27-e917874de13c"
      },
      "execution_count": null,
      "outputs": [
        {
          "output_type": "execute_result",
          "data": {
            "text/plain": [
              "      order_id  customer_id            restaurant_name cuisine_type  \\\n",
              "3      1477334       106968  Blue Ribbon Fried Chicken     American   \n",
              "12     1476966       129969  Blue Ribbon Fried Chicken     American   \n",
              "15     1477414        66222                Shake Shack     American   \n",
              "19     1477354        67487          Blue Ribbon Sushi     Japanese   \n",
              "22     1478287       150599                Shake Shack     American   \n",
              "...        ...          ...                        ...          ...   \n",
              "1880   1477466       222734                Shake Shack     American   \n",
              "1884   1477437       304993                Shake Shack     American   \n",
              "1885   1477550        97324                Shake Shack     American   \n",
              "1886   1478277        48282          The Meatball Shop     American   \n",
              "1888   1477353       106324          The Meatball Shop      Italian   \n",
              "\n",
              "      cost_of_the_order day_of_the_week  rating  food_preparation_time  \\\n",
              "3                 29.20         Weekend       3                     25   \n",
              "12                24.30         Weekend       5                     23   \n",
              "15                16.20         Weekend       5                     33   \n",
              "19                16.20         Weekend       4                     35   \n",
              "22                29.10         Weekday       5                     21   \n",
              "...                 ...             ...     ...                    ...   \n",
              "1880              13.97         Weekend       5                     35   \n",
              "1884              31.43         Weekend       3                     31   \n",
              "1885              29.05         Weekday       4                     27   \n",
              "1886              14.50         Weekend       5                     34   \n",
              "1888              16.20         Weekend       5                     21   \n",
              "\n",
              "      delivery_time  order_count  Revenue  \n",
              "3                15            1   7.3000  \n",
              "12               17            1   6.0750  \n",
              "15               25            1   2.4300  \n",
              "19               26            1   2.4300  \n",
              "22               30            1   7.2750  \n",
              "...             ...          ...      ...  \n",
              "1880             27            1   2.0955  \n",
              "1884             24            1   7.8575  \n",
              "1885             29            1   7.2625  \n",
              "1886             25            1   2.1750  \n",
              "1888             26            1   2.4300  \n",
              "\n",
              "[354 rows x 11 columns]"
            ],
            "text/html": [
              "\n",
              "  <div id=\"df-7d6693c0-2db5-4280-85dc-ba16552e707e\">\n",
              "    <div class=\"colab-df-container\">\n",
              "      <div>\n",
              "<style scoped>\n",
              "    .dataframe tbody tr th:only-of-type {\n",
              "        vertical-align: middle;\n",
              "    }\n",
              "\n",
              "    .dataframe tbody tr th {\n",
              "        vertical-align: top;\n",
              "    }\n",
              "\n",
              "    .dataframe thead th {\n",
              "        text-align: right;\n",
              "    }\n",
              "</style>\n",
              "<table border=\"1\" class=\"dataframe\">\n",
              "  <thead>\n",
              "    <tr style=\"text-align: right;\">\n",
              "      <th></th>\n",
              "      <th>order_id</th>\n",
              "      <th>customer_id</th>\n",
              "      <th>restaurant_name</th>\n",
              "      <th>cuisine_type</th>\n",
              "      <th>cost_of_the_order</th>\n",
              "      <th>day_of_the_week</th>\n",
              "      <th>rating</th>\n",
              "      <th>food_preparation_time</th>\n",
              "      <th>delivery_time</th>\n",
              "      <th>order_count</th>\n",
              "      <th>Revenue</th>\n",
              "    </tr>\n",
              "  </thead>\n",
              "  <tbody>\n",
              "    <tr>\n",
              "      <th>3</th>\n",
              "      <td>1477334</td>\n",
              "      <td>106968</td>\n",
              "      <td>Blue Ribbon Fried Chicken</td>\n",
              "      <td>American</td>\n",
              "      <td>29.20</td>\n",
              "      <td>Weekend</td>\n",
              "      <td>3</td>\n",
              "      <td>25</td>\n",
              "      <td>15</td>\n",
              "      <td>1</td>\n",
              "      <td>7.3000</td>\n",
              "    </tr>\n",
              "    <tr>\n",
              "      <th>12</th>\n",
              "      <td>1476966</td>\n",
              "      <td>129969</td>\n",
              "      <td>Blue Ribbon Fried Chicken</td>\n",
              "      <td>American</td>\n",
              "      <td>24.30</td>\n",
              "      <td>Weekend</td>\n",
              "      <td>5</td>\n",
              "      <td>23</td>\n",
              "      <td>17</td>\n",
              "      <td>1</td>\n",
              "      <td>6.0750</td>\n",
              "    </tr>\n",
              "    <tr>\n",
              "      <th>15</th>\n",
              "      <td>1477414</td>\n",
              "      <td>66222</td>\n",
              "      <td>Shake Shack</td>\n",
              "      <td>American</td>\n",
              "      <td>16.20</td>\n",
              "      <td>Weekend</td>\n",
              "      <td>5</td>\n",
              "      <td>33</td>\n",
              "      <td>25</td>\n",
              "      <td>1</td>\n",
              "      <td>2.4300</td>\n",
              "    </tr>\n",
              "    <tr>\n",
              "      <th>19</th>\n",
              "      <td>1477354</td>\n",
              "      <td>67487</td>\n",
              "      <td>Blue Ribbon Sushi</td>\n",
              "      <td>Japanese</td>\n",
              "      <td>16.20</td>\n",
              "      <td>Weekend</td>\n",
              "      <td>4</td>\n",
              "      <td>35</td>\n",
              "      <td>26</td>\n",
              "      <td>1</td>\n",
              "      <td>2.4300</td>\n",
              "    </tr>\n",
              "    <tr>\n",
              "      <th>22</th>\n",
              "      <td>1478287</td>\n",
              "      <td>150599</td>\n",
              "      <td>Shake Shack</td>\n",
              "      <td>American</td>\n",
              "      <td>29.10</td>\n",
              "      <td>Weekday</td>\n",
              "      <td>5</td>\n",
              "      <td>21</td>\n",
              "      <td>30</td>\n",
              "      <td>1</td>\n",
              "      <td>7.2750</td>\n",
              "    </tr>\n",
              "    <tr>\n",
              "      <th>...</th>\n",
              "      <td>...</td>\n",
              "      <td>...</td>\n",
              "      <td>...</td>\n",
              "      <td>...</td>\n",
              "      <td>...</td>\n",
              "      <td>...</td>\n",
              "      <td>...</td>\n",
              "      <td>...</td>\n",
              "      <td>...</td>\n",
              "      <td>...</td>\n",
              "      <td>...</td>\n",
              "    </tr>\n",
              "    <tr>\n",
              "      <th>1880</th>\n",
              "      <td>1477466</td>\n",
              "      <td>222734</td>\n",
              "      <td>Shake Shack</td>\n",
              "      <td>American</td>\n",
              "      <td>13.97</td>\n",
              "      <td>Weekend</td>\n",
              "      <td>5</td>\n",
              "      <td>35</td>\n",
              "      <td>27</td>\n",
              "      <td>1</td>\n",
              "      <td>2.0955</td>\n",
              "    </tr>\n",
              "    <tr>\n",
              "      <th>1884</th>\n",
              "      <td>1477437</td>\n",
              "      <td>304993</td>\n",
              "      <td>Shake Shack</td>\n",
              "      <td>American</td>\n",
              "      <td>31.43</td>\n",
              "      <td>Weekend</td>\n",
              "      <td>3</td>\n",
              "      <td>31</td>\n",
              "      <td>24</td>\n",
              "      <td>1</td>\n",
              "      <td>7.8575</td>\n",
              "    </tr>\n",
              "    <tr>\n",
              "      <th>1885</th>\n",
              "      <td>1477550</td>\n",
              "      <td>97324</td>\n",
              "      <td>Shake Shack</td>\n",
              "      <td>American</td>\n",
              "      <td>29.05</td>\n",
              "      <td>Weekday</td>\n",
              "      <td>4</td>\n",
              "      <td>27</td>\n",
              "      <td>29</td>\n",
              "      <td>1</td>\n",
              "      <td>7.2625</td>\n",
              "    </tr>\n",
              "    <tr>\n",
              "      <th>1886</th>\n",
              "      <td>1478277</td>\n",
              "      <td>48282</td>\n",
              "      <td>The Meatball Shop</td>\n",
              "      <td>American</td>\n",
              "      <td>14.50</td>\n",
              "      <td>Weekend</td>\n",
              "      <td>5</td>\n",
              "      <td>34</td>\n",
              "      <td>25</td>\n",
              "      <td>1</td>\n",
              "      <td>2.1750</td>\n",
              "    </tr>\n",
              "    <tr>\n",
              "      <th>1888</th>\n",
              "      <td>1477353</td>\n",
              "      <td>106324</td>\n",
              "      <td>The Meatball Shop</td>\n",
              "      <td>Italian</td>\n",
              "      <td>16.20</td>\n",
              "      <td>Weekend</td>\n",
              "      <td>5</td>\n",
              "      <td>21</td>\n",
              "      <td>26</td>\n",
              "      <td>1</td>\n",
              "      <td>2.4300</td>\n",
              "    </tr>\n",
              "  </tbody>\n",
              "</table>\n",
              "<p>354 rows × 11 columns</p>\n",
              "</div>\n",
              "      <button class=\"colab-df-convert\" onclick=\"convertToInteractive('df-7d6693c0-2db5-4280-85dc-ba16552e707e')\"\n",
              "              title=\"Convert this dataframe to an interactive table.\"\n",
              "              style=\"display:none;\">\n",
              "        \n",
              "  <svg xmlns=\"http://www.w3.org/2000/svg\" height=\"24px\"viewBox=\"0 0 24 24\"\n",
              "       width=\"24px\">\n",
              "    <path d=\"M0 0h24v24H0V0z\" fill=\"none\"/>\n",
              "    <path d=\"M18.56 5.44l.94 2.06.94-2.06 2.06-.94-2.06-.94-.94-2.06-.94 2.06-2.06.94zm-11 1L8.5 8.5l.94-2.06 2.06-.94-2.06-.94L8.5 2.5l-.94 2.06-2.06.94zm10 10l.94 2.06.94-2.06 2.06-.94-2.06-.94-.94-2.06-.94 2.06-2.06.94z\"/><path d=\"M17.41 7.96l-1.37-1.37c-.4-.4-.92-.59-1.43-.59-.52 0-1.04.2-1.43.59L10.3 9.45l-7.72 7.72c-.78.78-.78 2.05 0 2.83L4 21.41c.39.39.9.59 1.41.59.51 0 1.02-.2 1.41-.59l7.78-7.78 2.81-2.81c.8-.78.8-2.07 0-2.86zM5.41 20L4 18.59l7.72-7.72 1.47 1.35L5.41 20z\"/>\n",
              "  </svg>\n",
              "      </button>\n",
              "      \n",
              "  <style>\n",
              "    .colab-df-container {\n",
              "      display:flex;\n",
              "      flex-wrap:wrap;\n",
              "      gap: 12px;\n",
              "    }\n",
              "\n",
              "    .colab-df-convert {\n",
              "      background-color: #E8F0FE;\n",
              "      border: none;\n",
              "      border-radius: 50%;\n",
              "      cursor: pointer;\n",
              "      display: none;\n",
              "      fill: #1967D2;\n",
              "      height: 32px;\n",
              "      padding: 0 0 0 0;\n",
              "      width: 32px;\n",
              "    }\n",
              "\n",
              "    .colab-df-convert:hover {\n",
              "      background-color: #E2EBFA;\n",
              "      box-shadow: 0px 1px 2px rgba(60, 64, 67, 0.3), 0px 1px 3px 1px rgba(60, 64, 67, 0.15);\n",
              "      fill: #174EA6;\n",
              "    }\n",
              "\n",
              "    [theme=dark] .colab-df-convert {\n",
              "      background-color: #3B4455;\n",
              "      fill: #D2E3FC;\n",
              "    }\n",
              "\n",
              "    [theme=dark] .colab-df-convert:hover {\n",
              "      background-color: #434B5C;\n",
              "      box-shadow: 0px 1px 3px 1px rgba(0, 0, 0, 0.15);\n",
              "      filter: drop-shadow(0px 1px 2px rgba(0, 0, 0, 0.3));\n",
              "      fill: #FFFFFF;\n",
              "    }\n",
              "  </style>\n",
              "\n",
              "      <script>\n",
              "        const buttonEl =\n",
              "          document.querySelector('#df-7d6693c0-2db5-4280-85dc-ba16552e707e button.colab-df-convert');\n",
              "        buttonEl.style.display =\n",
              "          google.colab.kernel.accessAllowed ? 'block' : 'none';\n",
              "\n",
              "        async function convertToInteractive(key) {\n",
              "          const element = document.querySelector('#df-7d6693c0-2db5-4280-85dc-ba16552e707e');\n",
              "          const dataTable =\n",
              "            await google.colab.kernel.invokeFunction('convertToInteractive',\n",
              "                                                     [key], {});\n",
              "          if (!dataTable) return;\n",
              "\n",
              "          const docLinkHtml = 'Like what you see? Visit the ' +\n",
              "            '<a target=\"_blank\" href=https://colab.research.google.com/notebooks/data_table.ipynb>data table notebook</a>'\n",
              "            + ' to learn more about interactive tables.';\n",
              "          element.innerHTML = '';\n",
              "          dataTable['output_type'] = 'display_data';\n",
              "          await google.colab.output.renderOutput(dataTable, element);\n",
              "          const docLink = document.createElement('div');\n",
              "          docLink.innerHTML = docLinkHtml;\n",
              "          element.appendChild(docLink);\n",
              "        }\n",
              "      </script>\n",
              "    </div>\n",
              "  </div>\n",
              "  "
            ]
          },
          "metadata": {},
          "execution_count": 151
        }
      ]
    },
    {
      "cell_type": "code",
      "source": [
        "# Group the restaurant names with their ratings and find the mean rating of each restaurant\n",
        "df_mean_4.groupby(['restaurant_name'])['rating'].mean().sort_values(ascending = False).reset_index().dropna() ## Complete the code to find the mean rating"
      ],
      "metadata": {
        "colab": {
          "base_uri": "https://localhost:8080/",
          "height": 196
        },
        "id": "8OPUZHeEDNw0",
        "outputId": "2dfb42ca-b5fc-4dd2-d15e-3362a516489a"
      },
      "execution_count": null,
      "outputs": [
        {
          "output_type": "execute_result",
          "data": {
            "text/plain": [
              "             restaurant_name    rating\n",
              "0          The Meatball Shop  4.511905\n",
              "1  Blue Ribbon Fried Chicken  4.328125\n",
              "2                Shake Shack  4.278195\n",
              "3          Blue Ribbon Sushi  4.219178"
            ],
            "text/html": [
              "\n",
              "  <div id=\"df-f7c1500a-6e8e-44fe-92e2-91e47ba0947f\">\n",
              "    <div class=\"colab-df-container\">\n",
              "      <div>\n",
              "<style scoped>\n",
              "    .dataframe tbody tr th:only-of-type {\n",
              "        vertical-align: middle;\n",
              "    }\n",
              "\n",
              "    .dataframe tbody tr th {\n",
              "        vertical-align: top;\n",
              "    }\n",
              "\n",
              "    .dataframe thead th {\n",
              "        text-align: right;\n",
              "    }\n",
              "</style>\n",
              "<table border=\"1\" class=\"dataframe\">\n",
              "  <thead>\n",
              "    <tr style=\"text-align: right;\">\n",
              "      <th></th>\n",
              "      <th>restaurant_name</th>\n",
              "      <th>rating</th>\n",
              "    </tr>\n",
              "  </thead>\n",
              "  <tbody>\n",
              "    <tr>\n",
              "      <th>0</th>\n",
              "      <td>The Meatball Shop</td>\n",
              "      <td>4.511905</td>\n",
              "    </tr>\n",
              "    <tr>\n",
              "      <th>1</th>\n",
              "      <td>Blue Ribbon Fried Chicken</td>\n",
              "      <td>4.328125</td>\n",
              "    </tr>\n",
              "    <tr>\n",
              "      <th>2</th>\n",
              "      <td>Shake Shack</td>\n",
              "      <td>4.278195</td>\n",
              "    </tr>\n",
              "    <tr>\n",
              "      <th>3</th>\n",
              "      <td>Blue Ribbon Sushi</td>\n",
              "      <td>4.219178</td>\n",
              "    </tr>\n",
              "  </tbody>\n",
              "</table>\n",
              "</div>\n",
              "      <button class=\"colab-df-convert\" onclick=\"convertToInteractive('df-f7c1500a-6e8e-44fe-92e2-91e47ba0947f')\"\n",
              "              title=\"Convert this dataframe to an interactive table.\"\n",
              "              style=\"display:none;\">\n",
              "        \n",
              "  <svg xmlns=\"http://www.w3.org/2000/svg\" height=\"24px\"viewBox=\"0 0 24 24\"\n",
              "       width=\"24px\">\n",
              "    <path d=\"M0 0h24v24H0V0z\" fill=\"none\"/>\n",
              "    <path d=\"M18.56 5.44l.94 2.06.94-2.06 2.06-.94-2.06-.94-.94-2.06-.94 2.06-2.06.94zm-11 1L8.5 8.5l.94-2.06 2.06-.94-2.06-.94L8.5 2.5l-.94 2.06-2.06.94zm10 10l.94 2.06.94-2.06 2.06-.94-2.06-.94-.94-2.06-.94 2.06-2.06.94z\"/><path d=\"M17.41 7.96l-1.37-1.37c-.4-.4-.92-.59-1.43-.59-.52 0-1.04.2-1.43.59L10.3 9.45l-7.72 7.72c-.78.78-.78 2.05 0 2.83L4 21.41c.39.39.9.59 1.41.59.51 0 1.02-.2 1.41-.59l7.78-7.78 2.81-2.81c.8-.78.8-2.07 0-2.86zM5.41 20L4 18.59l7.72-7.72 1.47 1.35L5.41 20z\"/>\n",
              "  </svg>\n",
              "      </button>\n",
              "      \n",
              "  <style>\n",
              "    .colab-df-container {\n",
              "      display:flex;\n",
              "      flex-wrap:wrap;\n",
              "      gap: 12px;\n",
              "    }\n",
              "\n",
              "    .colab-df-convert {\n",
              "      background-color: #E8F0FE;\n",
              "      border: none;\n",
              "      border-radius: 50%;\n",
              "      cursor: pointer;\n",
              "      display: none;\n",
              "      fill: #1967D2;\n",
              "      height: 32px;\n",
              "      padding: 0 0 0 0;\n",
              "      width: 32px;\n",
              "    }\n",
              "\n",
              "    .colab-df-convert:hover {\n",
              "      background-color: #E2EBFA;\n",
              "      box-shadow: 0px 1px 2px rgba(60, 64, 67, 0.3), 0px 1px 3px 1px rgba(60, 64, 67, 0.15);\n",
              "      fill: #174EA6;\n",
              "    }\n",
              "\n",
              "    [theme=dark] .colab-df-convert {\n",
              "      background-color: #3B4455;\n",
              "      fill: #D2E3FC;\n",
              "    }\n",
              "\n",
              "    [theme=dark] .colab-df-convert:hover {\n",
              "      background-color: #434B5C;\n",
              "      box-shadow: 0px 1px 3px 1px rgba(0, 0, 0, 0.15);\n",
              "      filter: drop-shadow(0px 1px 2px rgba(0, 0, 0, 0.3));\n",
              "      fill: #FFFFFF;\n",
              "    }\n",
              "  </style>\n",
              "\n",
              "      <script>\n",
              "        const buttonEl =\n",
              "          document.querySelector('#df-f7c1500a-6e8e-44fe-92e2-91e47ba0947f button.colab-df-convert');\n",
              "        buttonEl.style.display =\n",
              "          google.colab.kernel.accessAllowed ? 'block' : 'none';\n",
              "\n",
              "        async function convertToInteractive(key) {\n",
              "          const element = document.querySelector('#df-f7c1500a-6e8e-44fe-92e2-91e47ba0947f');\n",
              "          const dataTable =\n",
              "            await google.colab.kernel.invokeFunction('convertToInteractive',\n",
              "                                                     [key], {});\n",
              "          if (!dataTable) return;\n",
              "\n",
              "          const docLinkHtml = 'Like what you see? Visit the ' +\n",
              "            '<a target=\"_blank\" href=https://colab.research.google.com/notebooks/data_table.ipynb>data table notebook</a>'\n",
              "            + ' to learn more about interactive tables.';\n",
              "          element.innerHTML = '';\n",
              "          dataTable['output_type'] = 'display_data';\n",
              "          await google.colab.output.renderOutput(dataTable, element);\n",
              "          const docLink = document.createElement('div');\n",
              "          docLink.innerHTML = docLinkHtml;\n",
              "          element.appendChild(docLink);\n",
              "        }\n",
              "      </script>\n",
              "    </div>\n",
              "  </div>\n",
              "  "
            ]
          },
          "metadata": {},
          "execution_count": 154
        }
      ]
    },
    {
      "cell_type": "markdown",
      "metadata": {
        "id": "UYq_xMk72rdT"
      },
      "source": [
        "### **Question 14:** The company charges the restaurant 25% on the orders having cost greater than 20 dollars and 15% on the orders having cost greater than 5 dollars. Find the net revenue generated by the company across all orders. [3 marks]"
      ]
    },
    {
      "cell_type": "code",
      "execution_count": null,
      "metadata": {
        "id": "We7SLKbr2rdT",
        "colab": {
          "base_uri": "https://localhost:8080/",
          "height": 324
        },
        "outputId": "10ac93f4-8df9-49cd-b6d3-d1569d263058"
      },
      "outputs": [
        {
          "output_type": "execute_result",
          "data": {
            "text/plain": [
              "   order_id  customer_id            restaurant_name cuisine_type  \\\n",
              "0   1477147       337525                    Hangawi       Korean   \n",
              "1   1477685       358141  Blue Ribbon Sushi Izakaya     Japanese   \n",
              "2   1477070        66393                Cafe Habana      Mexican   \n",
              "3   1477334       106968  Blue Ribbon Fried Chicken     American   \n",
              "4   1478249        76942           Dirty Bird to Go     American   \n",
              "\n",
              "   cost_of_the_order day_of_the_week     rating  food_preparation_time  \\\n",
              "0              30.75         Weekend  Not given                     25   \n",
              "1              12.08         Weekend  Not given                     25   \n",
              "2              12.23         Weekday          5                     23   \n",
              "3              29.20         Weekend          3                     25   \n",
              "4              11.59         Weekday          4                     25   \n",
              "\n",
              "   delivery_time  order_count  Revenue  \n",
              "0             20            1   7.6875  \n",
              "1             23            1   1.8120  \n",
              "2             28            1   1.8345  \n",
              "3             15            1   7.3000  \n",
              "4             24            1   1.7385  "
            ],
            "text/html": [
              "\n",
              "  <div id=\"df-6f5581ac-a950-4438-a389-c47aec744df7\">\n",
              "    <div class=\"colab-df-container\">\n",
              "      <div>\n",
              "<style scoped>\n",
              "    .dataframe tbody tr th:only-of-type {\n",
              "        vertical-align: middle;\n",
              "    }\n",
              "\n",
              "    .dataframe tbody tr th {\n",
              "        vertical-align: top;\n",
              "    }\n",
              "\n",
              "    .dataframe thead th {\n",
              "        text-align: right;\n",
              "    }\n",
              "</style>\n",
              "<table border=\"1\" class=\"dataframe\">\n",
              "  <thead>\n",
              "    <tr style=\"text-align: right;\">\n",
              "      <th></th>\n",
              "      <th>order_id</th>\n",
              "      <th>customer_id</th>\n",
              "      <th>restaurant_name</th>\n",
              "      <th>cuisine_type</th>\n",
              "      <th>cost_of_the_order</th>\n",
              "      <th>day_of_the_week</th>\n",
              "      <th>rating</th>\n",
              "      <th>food_preparation_time</th>\n",
              "      <th>delivery_time</th>\n",
              "      <th>order_count</th>\n",
              "      <th>Revenue</th>\n",
              "    </tr>\n",
              "  </thead>\n",
              "  <tbody>\n",
              "    <tr>\n",
              "      <th>0</th>\n",
              "      <td>1477147</td>\n",
              "      <td>337525</td>\n",
              "      <td>Hangawi</td>\n",
              "      <td>Korean</td>\n",
              "      <td>30.75</td>\n",
              "      <td>Weekend</td>\n",
              "      <td>Not given</td>\n",
              "      <td>25</td>\n",
              "      <td>20</td>\n",
              "      <td>1</td>\n",
              "      <td>7.6875</td>\n",
              "    </tr>\n",
              "    <tr>\n",
              "      <th>1</th>\n",
              "      <td>1477685</td>\n",
              "      <td>358141</td>\n",
              "      <td>Blue Ribbon Sushi Izakaya</td>\n",
              "      <td>Japanese</td>\n",
              "      <td>12.08</td>\n",
              "      <td>Weekend</td>\n",
              "      <td>Not given</td>\n",
              "      <td>25</td>\n",
              "      <td>23</td>\n",
              "      <td>1</td>\n",
              "      <td>1.8120</td>\n",
              "    </tr>\n",
              "    <tr>\n",
              "      <th>2</th>\n",
              "      <td>1477070</td>\n",
              "      <td>66393</td>\n",
              "      <td>Cafe Habana</td>\n",
              "      <td>Mexican</td>\n",
              "      <td>12.23</td>\n",
              "      <td>Weekday</td>\n",
              "      <td>5</td>\n",
              "      <td>23</td>\n",
              "      <td>28</td>\n",
              "      <td>1</td>\n",
              "      <td>1.8345</td>\n",
              "    </tr>\n",
              "    <tr>\n",
              "      <th>3</th>\n",
              "      <td>1477334</td>\n",
              "      <td>106968</td>\n",
              "      <td>Blue Ribbon Fried Chicken</td>\n",
              "      <td>American</td>\n",
              "      <td>29.20</td>\n",
              "      <td>Weekend</td>\n",
              "      <td>3</td>\n",
              "      <td>25</td>\n",
              "      <td>15</td>\n",
              "      <td>1</td>\n",
              "      <td>7.3000</td>\n",
              "    </tr>\n",
              "    <tr>\n",
              "      <th>4</th>\n",
              "      <td>1478249</td>\n",
              "      <td>76942</td>\n",
              "      <td>Dirty Bird to Go</td>\n",
              "      <td>American</td>\n",
              "      <td>11.59</td>\n",
              "      <td>Weekday</td>\n",
              "      <td>4</td>\n",
              "      <td>25</td>\n",
              "      <td>24</td>\n",
              "      <td>1</td>\n",
              "      <td>1.7385</td>\n",
              "    </tr>\n",
              "  </tbody>\n",
              "</table>\n",
              "</div>\n",
              "      <button class=\"colab-df-convert\" onclick=\"convertToInteractive('df-6f5581ac-a950-4438-a389-c47aec744df7')\"\n",
              "              title=\"Convert this dataframe to an interactive table.\"\n",
              "              style=\"display:none;\">\n",
              "        \n",
              "  <svg xmlns=\"http://www.w3.org/2000/svg\" height=\"24px\"viewBox=\"0 0 24 24\"\n",
              "       width=\"24px\">\n",
              "    <path d=\"M0 0h24v24H0V0z\" fill=\"none\"/>\n",
              "    <path d=\"M18.56 5.44l.94 2.06.94-2.06 2.06-.94-2.06-.94-.94-2.06-.94 2.06-2.06.94zm-11 1L8.5 8.5l.94-2.06 2.06-.94-2.06-.94L8.5 2.5l-.94 2.06-2.06.94zm10 10l.94 2.06.94-2.06 2.06-.94-2.06-.94-.94-2.06-.94 2.06-2.06.94z\"/><path d=\"M17.41 7.96l-1.37-1.37c-.4-.4-.92-.59-1.43-.59-.52 0-1.04.2-1.43.59L10.3 9.45l-7.72 7.72c-.78.78-.78 2.05 0 2.83L4 21.41c.39.39.9.59 1.41.59.51 0 1.02-.2 1.41-.59l7.78-7.78 2.81-2.81c.8-.78.8-2.07 0-2.86zM5.41 20L4 18.59l7.72-7.72 1.47 1.35L5.41 20z\"/>\n",
              "  </svg>\n",
              "      </button>\n",
              "      \n",
              "  <style>\n",
              "    .colab-df-container {\n",
              "      display:flex;\n",
              "      flex-wrap:wrap;\n",
              "      gap: 12px;\n",
              "    }\n",
              "\n",
              "    .colab-df-convert {\n",
              "      background-color: #E8F0FE;\n",
              "      border: none;\n",
              "      border-radius: 50%;\n",
              "      cursor: pointer;\n",
              "      display: none;\n",
              "      fill: #1967D2;\n",
              "      height: 32px;\n",
              "      padding: 0 0 0 0;\n",
              "      width: 32px;\n",
              "    }\n",
              "\n",
              "    .colab-df-convert:hover {\n",
              "      background-color: #E2EBFA;\n",
              "      box-shadow: 0px 1px 2px rgba(60, 64, 67, 0.3), 0px 1px 3px 1px rgba(60, 64, 67, 0.15);\n",
              "      fill: #174EA6;\n",
              "    }\n",
              "\n",
              "    [theme=dark] .colab-df-convert {\n",
              "      background-color: #3B4455;\n",
              "      fill: #D2E3FC;\n",
              "    }\n",
              "\n",
              "    [theme=dark] .colab-df-convert:hover {\n",
              "      background-color: #434B5C;\n",
              "      box-shadow: 0px 1px 3px 1px rgba(0, 0, 0, 0.15);\n",
              "      filter: drop-shadow(0px 1px 2px rgba(0, 0, 0, 0.3));\n",
              "      fill: #FFFFFF;\n",
              "    }\n",
              "  </style>\n",
              "\n",
              "      <script>\n",
              "        const buttonEl =\n",
              "          document.querySelector('#df-6f5581ac-a950-4438-a389-c47aec744df7 button.colab-df-convert');\n",
              "        buttonEl.style.display =\n",
              "          google.colab.kernel.accessAllowed ? 'block' : 'none';\n",
              "\n",
              "        async function convertToInteractive(key) {\n",
              "          const element = document.querySelector('#df-6f5581ac-a950-4438-a389-c47aec744df7');\n",
              "          const dataTable =\n",
              "            await google.colab.kernel.invokeFunction('convertToInteractive',\n",
              "                                                     [key], {});\n",
              "          if (!dataTable) return;\n",
              "\n",
              "          const docLinkHtml = 'Like what you see? Visit the ' +\n",
              "            '<a target=\"_blank\" href=https://colab.research.google.com/notebooks/data_table.ipynb>data table notebook</a>'\n",
              "            + ' to learn more about interactive tables.';\n",
              "          element.innerHTML = '';\n",
              "          dataTable['output_type'] = 'display_data';\n",
              "          await google.colab.output.renderOutput(dataTable, element);\n",
              "          const docLink = document.createElement('div');\n",
              "          docLink.innerHTML = docLinkHtml;\n",
              "          element.appendChild(docLink);\n",
              "        }\n",
              "      </script>\n",
              "    </div>\n",
              "  </div>\n",
              "  "
            ]
          },
          "metadata": {},
          "execution_count": 140
        }
      ],
      "source": [
        "#function to determine the revenue\n",
        "def compute_rev(x):\n",
        "    if x > 20:\n",
        "        return x*0.25\n",
        "    elif x > 5:\n",
        "        return x*0.15\n",
        "    else:\n",
        "        return x*0\n",
        "\n",
        "df['Revenue'] = df['cost_of_the_order'].apply(compute_rev) ## Write the apprpriate column name to compute the revenue\n",
        "df.head()"
      ]
    },
    {
      "cell_type": "code",
      "execution_count": null,
      "metadata": {
        "id": "Ab_UW6kRIAk3",
        "colab": {
          "base_uri": "https://localhost:8080/"
        },
        "outputId": "2954ecff-d661-474b-fb5a-ae47047313a0"
      },
      "outputs": [
        {
          "output_type": "stream",
          "name": "stdout",
          "text": [
            "The net revenue is around 6166.3 dollars\n"
          ]
        }
      ],
      "source": [
        "# get the total revenue and print it\n",
        "total_rev = df['Revenue'].sum() ## Write the appropriate function to get the total revenue\n",
        "print('The net revenue is around', round(total_rev, 2), 'dollars')"
      ]
    },
    {
      "cell_type": "markdown",
      "metadata": {
        "id": "LZy7Tky82rdT"
      },
      "source": [
        "### **Question 15:** The company wants to analyze the total time required to deliver the food. What percentage of orders take more than 60 minutes to get delivered from the time the order is placed? (The food has to be prepared and then delivered.)[2 marks]\n"
      ]
    },
    {
      "cell_type": "code",
      "execution_count": null,
      "metadata": {
        "id": "Ati2ZEEE2rdT",
        "colab": {
          "base_uri": "https://localhost:8080/"
        },
        "outputId": "026546af-4af0-4cb0-ee4b-07b4b189263c"
      },
      "outputs": [
        {
          "output_type": "stream",
          "name": "stdout",
          "text": [
            "Percetange of orders that took more than 60 min 10.54 %\n"
          ]
        }
      ],
      "source": [
        "# Calculate total delivery time and add a new column to the dataframe df to store the total delivery time\n",
        "df['total_time'] = df['food_preparation_time'] + df['delivery_time']\n",
        "## Write the code below to find the percentage of orders that have more than 60 minutes of total delivery time (see Question 9 for reference)\n",
        "df_greater_than_60 = df[df['total_time']>60]\n",
        "percentage = (df_greater_than_60.shape[0] / df.shape[0]) * 100\n",
        "print(\"Percetange of orders that took more than 60 min\",round(percentage,2),'%')"
      ]
    },
    {
      "cell_type": "markdown",
      "metadata": {
        "id": "SYOKcqNF2rdU"
      },
      "source": [
        "### **Question 16:** The company wants to analyze the delivery time of the orders on weekdays and weekends. How does the mean delivery time vary during weekdays and weekends? [2 marks]"
      ]
    },
    {
      "cell_type": "code",
      "execution_count": null,
      "metadata": {
        "id": "A2eovxKR2rdU",
        "colab": {
          "base_uri": "https://localhost:8080/"
        },
        "outputId": "fd6a16b3-3ea0-4086-b1e8-6f9405a182ab"
      },
      "outputs": [
        {
          "output_type": "stream",
          "name": "stdout",
          "text": [
            "The mean delivery time on weekdays is around 28 minutes\n",
            "The mean delivery time on weekends is around 22 minutes\n"
          ]
        }
      ],
      "source": [
        "# Get the mean delivery time on weekdays and print it\n",
        "print('The mean delivery time on weekdays is around',\n",
        "      round(df[df['day_of_the_week'] == 'Weekday']['delivery_time'].mean()),\n",
        "     'minutes')\n",
        "\n",
        "\n",
        "## Write the code below to get the mean delivery time on weekends and print it\n",
        "print('The mean delivery time on weekends is around',\n",
        "      round(df[df['day_of_the_week'] == 'Weekend']['delivery_time'].mean()),\n",
        "     'minutes')\n",
        "\n",
        "\n",
        "\n"
      ]
    },
    {
      "cell_type": "markdown",
      "metadata": {
        "id": "2nE3pq472rdU"
      },
      "source": [
        "### Conclusion and Recommendations"
      ]
    },
    {
      "cell_type": "markdown",
      "metadata": {
        "id": "DL1sNndy2rdU"
      },
      "source": [
        "### **Question 17:** What are your conclusions from the analysis? What recommendations would you like to share to help improve the business? (You can use cuisine type and feedback ratings to drive your business recommendations.) [6 marks]"
      ]
    },
    {
      "cell_type": "markdown",
      "metadata": {
        "id": "VTugVsL4Ddz-"
      },
      "source": [
        "### Conclusions:\n",
        "*  "
      ]
    },
    {
      "cell_type": "markdown",
      "metadata": {
        "id": "PWnsI0i_guWJ"
      },
      "source": [
        "### Recommendations:\n",
        "\n",
        "*  "
      ]
    },
    {
      "cell_type": "markdown",
      "metadata": {
        "id": "Kvk0Fh6WhMjU"
      },
      "source": [
        "---"
      ]
    }
  ],
  "metadata": {
    "colab": {
      "collapsed_sections": [
        "LUh8hTiW2rdH",
        "2Dl2aL1W2rdI",
        "4ceeYAVy2rdO",
        "lu0o5GkQ2rdR",
        "2nE3pq472rdU",
        "DL1sNndy2rdU"
      ],
      "provenance": [],
      "include_colab_link": true
    },
    "kernelspec": {
      "display_name": "Python 3 (ipykernel)",
      "language": "python",
      "name": "python3"
    },
    "language_info": {
      "codemirror_mode": {
        "name": "ipython",
        "version": 3
      },
      "file_extension": ".py",
      "mimetype": "text/x-python",
      "name": "python",
      "nbconvert_exporter": "python",
      "pygments_lexer": "ipython3",
      "version": "3.9.7"
    }
  },
  "nbformat": 4,
  "nbformat_minor": 0
}
